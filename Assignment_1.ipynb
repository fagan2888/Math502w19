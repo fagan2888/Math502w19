{
 "cells": [
  {
   "cell_type": "markdown",
   "metadata": {},
   "source": [
    "# Assignment 1\n",
    "\n",
    "### Math 502 - Lamoureux\n",
    "\n",
    "### Due January 31, 2019"
   ]
  },
  {
   "cell_type": "markdown",
   "metadata": {},
   "source": [
    "## Exercise 0\n",
    "\n",
    "Plot a few Bessel functions of the first kind, using your knowledge of Python. \n",
    "Plot for orders $\\alpha = 0,1,2,3$ and choose a sensible range of values for the domain.\n",
    "\n",
    "\n",
    "(Hint: You might want to look back at our sample code on how we plotted a sine or cosine function, and replicate that for a Bessel function. You may have to look up on Google how to call a Bessel function from some toolbox in Python.)\n",
    "\n",
    "Please don't work too hard -- I don't want to see your approximate solution as an infinite sum or integral form!! Use functions you can call from Python and its modules. \n",
    "\n"
   ]
  },
  {
   "cell_type": "markdown",
   "metadata": {},
   "source": [
    "## Exercise 1\n",
    "\n",
    "Recall in Lecture 4 (Jan 22), we had a model for the traffic jam model, with a jump in the velocity function.\n",
    "Replace the jump function for $v(x)$ with a smooth, monotonic function that has a left limit of $v_{left}$ and a right limit of $v_{right}$. Choose a function where it is easy to calculate the antiderivative of slowness $1/v(x)$. \n",
    "\n",
    "Do calculate the function $S(x)$ as the antiderivative of slowness $1/v(x)$, for your choice of $v(x)$.\n",
    "\n",
    "Hint: Rational functions won't work. (Exercise 1a. Why not?) You might want to consider functions like arctan, $\\tan^{-1}(x)$ or hyperbolic tan, $\\tanh(x)$. "
   ]
  },
  {
   "cell_type": "markdown",
   "metadata": {},
   "source": [
    "## Exercise 2\n",
    "\n",
    "Adjust the code in Lecture 4 to use your new definition of $v(x)$ and the resulting $S(x).$ Show that it works by making a few illustrative plots."
   ]
  },
  {
   "cell_type": "markdown",
   "metadata": {},
   "source": [
    "## Exercise 3\n",
    "\n",
    "Kepler's third law of planetary motion says that the length of time it takes a planet to orbit the sun is proportional to its distance from the sun, raised to some (fractional) power. That is:\n",
    "$$ T = k R^\\alpha,$$\n",
    "where $T$ is the length of time for one complete orbit, $R$ is the distance between the planet and the sun, $\\alpha$ is a fixed power, and $k$ is some univeral constant that works for all the planets around our sun. \n",
    "\n",
    "Use Dimensional Analysis (Buckingham's Pi Theorem) to derive this result. Tell me what the value of $\\alpha$ is. \n",
    "\n",
    "Don't use calculus! (Although you may have seen this solved via differential equations in a calc or physics class.)\n",
    "\n",
    "Hint: There is some ambiguity because of two masses involved (sun and planet). Newton knew that the mass of the planet does not matter to $T$, so you can assume this as well. Newton's universal gravitation constant $G$ also enters into the problem -- you can look up what units it is measured in, on Google. Or you can figure it out yourself from the force formula for planetary attraction $$\\mbox{ Force } = G \\frac{Mm}{R^2}$$\n",
    "where $M,m$ are the masses of the sun and planet.\n",
    "\n",
    "You can also check your answer by looking up Kepler's laws on Google. "
   ]
  },
  {
   "cell_type": "markdown",
   "metadata": {},
   "source": [
    "## Exercise 4\n",
    "\n",
    "Make a table listing the 8 planets plus Pluto, their distance to the sun, and the period of their orbit. \n",
    "\n",
    "Make a log-log plot of period versus distance, and check that you get a straight line with slope equal to $\\alpha$. (At least approximately.)\n",
    "\n",
    "i.e. Taking logs of the equation $T = kR^\\alpha$ gives\n",
    "$$\\log T = \\log k + \\alpha \\log R,$$\n",
    "which is the equation of a line in $x = \\log R, y = \\log T.$\n",
    "\n"
   ]
  },
  {
   "cell_type": "markdown",
   "metadata": {},
   "source": [
    "## Exercise 5\n",
    "\n",
    "Nuclear bombs, when exploded in the atmosphere, produce a large fireball that expands in the approximate shape of a sphere of some radius $r = r(t)$, which is a function of elapsed time. The rate at which it expands depends on the energy $E$ released by the bomb, the elapsed time $t$ since the detonation, and the density $\\rho$ of the surrounding air. \n",
    "\n",
    "Curiously, the actual air pressure is irrelevant, as it is so small compared to the explosive blast.\n",
    "\n",
    "Use dimensional analysis to find $r(t)$ as a function of $E,t,\\rho$. (times some fixed constant)"
   ]
  },
  {
   "cell_type": "markdown",
   "metadata": {},
   "source": [
    "## Exercise 6 - for fun.\n",
    "\n",
    "Can you animate the result in Exercise 5, showing some bomb blasts of various energies? Something pretty?"
   ]
  },
  {
   "cell_type": "code",
   "execution_count": null,
   "metadata": {},
   "outputs": [],
   "source": []
  }
 ],
 "metadata": {
  "kernelspec": {
   "display_name": "Python 3",
   "language": "python",
   "name": "python3"
  },
  "language_info": {
   "codemirror_mode": {
    "name": "ipython",
    "version": 3
   },
   "file_extension": ".py",
   "mimetype": "text/x-python",
   "name": "python",
   "nbconvert_exporter": "python",
   "pygments_lexer": "ipython3",
   "version": "3.7.2"
  }
 },
 "nbformat": 4,
 "nbformat_minor": 2
}
