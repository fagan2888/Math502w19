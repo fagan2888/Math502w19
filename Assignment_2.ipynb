{
 "cells": [
  {
   "cell_type": "markdown",
   "metadata": {},
   "source": [
    "# Assignment 2\n",
    "\n",
    "### Math 502 - Lamoureux\n",
    "\n",
    "### Due February 14, 2019"
   ]
  },
  {
   "cell_type": "markdown",
   "metadata": {},
   "source": [
    "## Exercise 0\n",
    "\n",
    "It's Valentine's Day. Plot a cardioid curve. (A curve in the 2D plane that looks like a heart.)\n",
    "\n",
    "(In 3D, the heart surface looks like the following image. See Wolfram's MathWorld to see the polynomial involved in the \"heart surface.\" Matlab also has code to plot this!)\n",
    "\n",
    "![heart surface](heartsurface.jpg)\n"
   ]
  },
  {
   "cell_type": "markdown",
   "metadata": {},
   "source": [
    "## Exercise 1\n",
    "\n",
    "More on Kepler's law.\n",
    "\n",
    "Suppose you have a mass $m$ sliding on a frictionless table, attached to a pole at the center of table via an elastic spring. The force due to the spring is proportional to the distance from the mass to the center of the table\n",
    "$$F = k \\cdot (\\mbox{distance from mass to pole.})$$\n",
    "\n",
    "It turns out the mass will move around the table in an ellipse, say of some mean radius $R$ and period of oscillation $T$.\n",
    "\n",
    "Use dimensional analysis to show the period $T$ depends on the mass $m$ and the spring constant $k$. Show explicitly what the power law is, for this relationship. \n",
    "\n",
    "How is this different from Kepler's third law? \n",
    "\n",
    "Can you conclude that the Earth is not connected to the Sun via a big spring?"
   ]
  },
  {
   "cell_type": "markdown",
   "metadata": {},
   "source": [
    "## Exercise 2\n",
    "\n",
    "Can you solve the above system numerically? You might like to use the SciPy function \"odeint\" to solve this. \n",
    "\n",
    "Plot your results, so that you can see the mass really does move in an ellipse. \n",
    "\n",
    "**Note:** the 2D system of equations would look something like:\n",
    "$$\\begin{eqnarray}\n",
    "m\\frac{d^2x}{dt^2} &=& - k x, \\\\\n",
    "m\\frac{d^2y}{dt^2} &=& - k y. \n",
    "\\end{eqnarray}\n",
    "$$\n",
    "So for odeint, you will need to use a 4 dimentional vector, that involves functions $(x,x',y,y')$.\n",
    "\n",
    "You might notice that the above system is easy enough to solve explicitly (i.e. solved for x,y, as explicit functions of time). But do try it numerically."
   ]
  },
  {
   "cell_type": "markdown",
   "metadata": {},
   "source": [
    "## Exercise 3\n",
    "\n",
    "A more complicated Buckingham Pi example.\n",
    "\n",
    "![A pipe](images/Pipe.png)\n",
    "\n",
    "Picture a long pipe, a viscous fluid flowing in it. The pressure is high on the left, low on the right, so there is a pressure gradient that causes the fluid to flow.\n",
    "\n",
    "There are 5 physical parameters for this:\n",
    "- $D$, the diameter of the pipe\n",
    "- $\\rho$, the density of the fluid\n",
    "- $\\mu$, the dynamic viscosity of the fluid\n",
    "- $U$, the average velocity of the fluid\n",
    "- $P' = dP/dx$, the gradient of the pressure (assumed constant in the pipe).\n",
    "\n",
    "**Part 1:** Show there are 3 physical units, so by Buckingham Pi, there are 5-3 = 2 independent, unitless quantities $\\Pi_1, \\Pi_2.$ Find them. \n",
    "\n",
    "(Hint: one might be the Reynolds number. Always a good choice.)\n",
    "\n",
    "**Part 2:** Since there are two $\\Pi's$, we can expect to \"solve the problem\" in the form\n",
    "$$\\Pi_2 = F(\\Pi_1)$$\n",
    "for some unspecified function $F$. \n",
    "\n",
    "Use this approach to to find the constant pressure gradient $P'$ as a product of powers of $D,\\rho,U$ and $F(\\Pi_1).$"
   ]
  },
  {
   "cell_type": "markdown",
   "metadata": {},
   "source": [
    "## Exercise 4\n",
    "\n",
    "Find an expansion for the roots of the cubic\n",
    "$$\\epsilon x^3 + x -1 = 0$$\n",
    "for small values of $\\epsilon.$ Find three (non-zero) terms in each expansion.\n"
   ]
  },
  {
   "cell_type": "markdown",
   "metadata": {},
   "source": [
    "## Exercise 5\n",
    "\n",
    "**Set-up:**\n",
    "The logistic equation (from calculus)\n",
    "$$\\frac{du}{dt} = k u(1-u)$$\n",
    "is a simple model for population growth when there are limited resources. For instance, think of rabbits in a field of grass that they can eat. When there are just a few rabbits ($u$ close to zero), the equation becomes\n",
    "$$\\frac{du}{dt} \\approx k u,$$\n",
    "and we get exponential growth. When $u$ is close to 1, the rabbits run out of grass, and the equation becomes\n",
    "$$\\frac{du}{dt} \\approx \\sigma k u,$$\n",
    "which gives slow growth or slow decay towards $1$, depending on whether $\\sigma = 1-u$ is positive or negative.\n",
    "\n",
    "**Exercise:**\n",
    "Now, suppose the problem has a periodic perturbation (say due to seasons of grass growing):\n",
    "$$\\frac{du}{dt} = k u(1 + \\epsilon\\cos(t) -u).$$\n",
    "Find a periodic solution $u = 1 + \\epsilon u_1(t) + \\cdots $ which is correct to $O(\\epsilon)$. That is, the error is of $O(\\epsilon^2)$.\n"
   ]
  },
  {
   "cell_type": "markdown",
   "metadata": {},
   "source": [
    "## Exercise 6 \n",
    "\n",
    "(This is related to a trick we used in the traffic flow problem. Good to review.)\n",
    "\n",
    "The temperature $T=T(x,y,z)$ of a body in three dimensions, that has cooled to steady state, will satisfy the second order differential equation\n",
    "$$\\nabla\\cdot(k(T)\\nabla T) = 0,$$\n",
    "where $k(T)$ is the thermal conductivity of the material, which often depends on temperature.\n",
    "\n",
    "This is NOT Laplace's equation. Show that making a change of variables\n",
    "$$ u =\\int^T k(s) \\, ds$$\n",
    "we get Laplace's equation \n",
    "$$\\nabla^2 u = 0$$\n",
    "\n",
    "Hint: You might like to start off in 1 dimension, $T= T(x)$ to understand the steps. Then try $T= T(x,y,z)$. \n",
    "\n",
    "Note also that the definition of $u$ as an antiderivative is kind of written in a shorthand notation. Make sure you make good sense of this, to obtain a function $u= u(x,y,z)$.  Be careful here, and then it all works out nicely."
   ]
  },
  {
   "cell_type": "code",
   "execution_count": null,
   "metadata": {},
   "outputs": [],
   "source": []
  }
 ],
 "metadata": {
  "kernelspec": {
   "display_name": "Python 3",
   "language": "python",
   "name": "python3"
  },
  "language_info": {
   "codemirror_mode": {
    "name": "ipython",
    "version": 3
   },
   "file_extension": ".py",
   "mimetype": "text/x-python",
   "name": "python",
   "nbconvert_exporter": "python",
   "pygments_lexer": "ipython3",
   "version": "3.7.2"
  }
 },
 "nbformat": 4,
 "nbformat_minor": 2
}
