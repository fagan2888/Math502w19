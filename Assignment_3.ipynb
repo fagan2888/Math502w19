{
 "cells": [
  {
   "cell_type": "markdown",
   "metadata": {},
   "source": [
    "# Assignment 3\n",
    "\n",
    "### Math 502 - Lamoureux\n",
    "\n",
    "### Due February 26, 2019 -- Extended to March 5 (after the midterm).\n",
    "\n",
    "## Note:  This assignment is not to be graded, just to inform the prof about what your final project will be.\n"
   ]
  },
  {
   "cell_type": "markdown",
   "metadata": {},
   "source": [
    "# Exercise 1\n",
    "\n",
    "Describe your final project for the class. \n",
    "\n",
    "Be sure to include:\n",
    "- a list of your partner(s) on the project\n",
    "- a summary description of the physical or industrial process you intend to model\n",
    "- the question(s) you are trying to answer with your model\n",
    "- some initial thoughts on the mathematics you expect to use in the project (ODEs, PDEs, stochastic models, cellular automata, statistical analysis, etc.)\n",
    "- some indication of what data you need to collect for the project, what computing methods you might use.\n",
    "- some indication of whether you have started the project, and what you have done so far.\n",
    "- if you are intending to do an experiment, remember there are strict rules at the university that would prevent you from using human or animal subjects, or doing something that could harm the environment. Unless you are willing to go through a formal approval process. So be clear in the description about any experiments that might occur, and that implementing them will respect these rules. \n",
    "\n",
    "Something like two to three pages of description should be sufficient. You may like to include some references or videos of what you hope to examine. \n",
    "\n",
    "You can expect some feedback from the professor. \n"
   ]
  },
  {
   "cell_type": "markdown",
   "metadata": {},
   "source": [
    "## Sample project 1\n",
    "\n",
    "### Piano wire modelling\n",
    "\n",
    "Howison has a chapter on tuning a piano. The main thrust is that the simple wave equation for a vibrating string\n",
    "$$ y'' + y = f$$\n",
    "has to be modified slightly, to include a fourth order term \n",
    "$$ \\epsilon y^{(4)} + y'' + y = f.$$\n",
    "This is due to the fact that piano wires are made of steel, and bend like a beam rather than an elastic string. \n",
    "\n",
    "I'm curious to know how that modification affects the sound of the piano. So here are some questions I would like to answer:\n",
    "\n",
    "1. What is the approximate value for $\\epsilon$ for various piano strings? Some strings are a simple steel wire, others are a steel wire wrapped in copper or brass coils. Surely this makes a difference for $\\epsilon$. What is it?\n",
    "\n",
    "2. Can we hear the difference? If we synthesize the sound for various $\\epsilon$, we know the main change is in the harmonics of the vibrations. Can we hear this change? What is the smallest value of $\\epsilon$ that we can hear the change? What is the largest value so that the sound still sounds like a (good) piano? Are these values close to the ones that we estimated in part 1?\n",
    "\n",
    "3. Can we verify the real value of $\\epsilon$ by analyzing a high quality recording of a piano? I have a good quality microphone and access to two pianos (upright, and 6.5 foot grand. Both by the same manufacturer.) With Fourier analysis, perhaps we can see the shift in harmonics, and estimate the value of $\\epsilon$. \n",
    "\n",
    "4. Does it matter where we hit the strings? Or pluck them? We have a real piano, so we can mess around with hitting the strings at various places. Does minimum phase come into the picture?\n",
    "\n",
    "5. Can we design a funny sounding piano with these ideas? What if the $\\epsilon$ was in the opposite direction, so harmonics are compressed, rather than streteched.\n",
    "\n",
    "6. Is it possible to model an organ pipe, but with the same stretched harmonics. That might be interesting. "
   ]
  },
  {
   "cell_type": "markdown",
   "metadata": {},
   "source": [
    "## Sample project 2\n",
    "\n",
    "### Inverted pendulum control\n",
    "\n",
    "I know how to model a pendulum swinging on a rolling cart. (A system of ODEs, one for the pendulum, one for the cart, plus some coupling). I also know that it is possible to use some beedback to keep an invertible pendulum stable. (See YouTube video.) Can we do a simulation of both?\n",
    "\n",
    "1. We need two (or three/) pieces of code, one to model the pendulum + cart, another to model the measurements of the pendulum state, and then the feedback to control the cart. First we get the pieces working, then we figure out how to get them running together and talking to each other.\n",
    "\n",
    "2. Can we animate what is going on?\n",
    "\n",
    "3. Questions to resolve:\n",
    "    - how much state information do we need to make this work (position of pendulum, or position plus velocity? what about the state of the cart?)\n",
    "    - do we model this as a discrete time system? \n",
    "    - does the stability of the control system depend on the time step in the discrete system?\n",
    "    - can the physical model and control system have different time step resolution? Should they?\n",
    "    - can we model an analog system, implemented with resistors and capacitors and actuator?\n",
    "    - how much noise or uncertainty in the measurements can the control system handle?\n",
    "    - how do limits on components affect the performance? (e.g. motors or actuators have a maximum speed, maximum acceleration. Measuing devices have a limit to resolution. Etc.)\n",
    "    \n",
    "4. With this information, can we suggest building such a thing?"
   ]
  },
  {
   "cell_type": "markdown",
   "metadata": {},
   "source": [
    "## Sample project 3\n",
    "\n",
    "I'm interested in building a real inverted pendulum device. \n",
    "\n",
    "It should be small, small enough to sit on a desk top as a battery operated toy.\n",
    "\n",
    "Sensor could be a simple tilt meter, actuator could be a coil and magnet. \n",
    "\n",
    "Question:\n",
    "\n",
    "- Is this enough to build such a device? \n",
    "\n",
    "We start with a mathematical model of the inverted pendulum, the linear actuator, and the sensor device. Then see if the resulting system is controlable. \n",
    "\n",
    "- Can this be battery operated?\n",
    "\n",
    "The idea is that the system should not use much power when it is balanced upright. So the linear actuator should be only used lightly when we are close to the upside down position. Not sure if this is possible.\n",
    "\n",
    "I have the sensors, and lots of electronics to play around with. Haven't done much of the mathematical modeling yet. \n",
    "\n"
   ]
  }
 ],
 "metadata": {
  "kernelspec": {
   "display_name": "Python 3",
   "language": "python",
   "name": "python3"
  },
  "language_info": {
   "codemirror_mode": {
    "name": "ipython",
    "version": 3
   },
   "file_extension": ".py",
   "mimetype": "text/x-python",
   "name": "python",
   "nbconvert_exporter": "python",
   "pygments_lexer": "ipython3",
   "version": "3.7.2"
  }
 },
 "nbformat": 4,
 "nbformat_minor": 2
}
