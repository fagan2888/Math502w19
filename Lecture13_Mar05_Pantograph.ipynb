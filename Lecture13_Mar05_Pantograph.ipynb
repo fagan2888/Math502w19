{
 "cells": [
  {
   "cell_type": "markdown",
   "metadata": {},
   "source": [
    "# Pantograph model\n",
    "\n",
    "Lecture 13 - March 5, 2019.\n",
    "\n",
    "Math 502 - Winter 2018\n",
    "\n",
    "An electric train, with overhead wires to supply power, has a **pantograph** on top, which is a spring-loaded lever that reaches up to touch the wire.\n",
    "\n",
    "<img src=\"images/Pantograph.png\" width=300 />\n",
    "\n",
    "We want to describe the mathematics of such a setup, which is important for high speed trains. For instance,  we need to know the wires don't start oscillating madly and fall off their supports, or disconnect from the train, or maybe make waves that reflect off the supports and do strange things. \n",
    "\n",
    "You should read about this model in Howison, Chapter 11. (\"Practical Applied Mathematics.\")\n",
    "\n",
    "You can read his Howison's text online here : [people.maths.ox.ac.uk/fowler/courses/tech/sdh.pdf](https://people.maths.ox.ac.uk/fowler/courses/tech/sdh.pdf)\n",
    "\n",
    "You may also read Chapeter 9 and 10, about **distributions** such as the Dirac delta function. \n"
   ]
  },
  {
   "cell_type": "markdown",
   "metadata": {},
   "source": [
    "### Assumptions\n",
    "- the overhead wire bewhaves like an elastic string, as the bending moment is very small\n",
    "- the supporting poles for the wire, at locations $x=0,L$ are rigid.\n",
    "- the spring contact of the pantograph acts as a linear spring with some damping\n",
    "- force on the wire is only at the contact point, a point source, which is moving with the train\n",
    "- the train moves with uniform velocity, in a string line under the wire\n",
    "- we would like to include the force of gravity on the wire as well. "
   ]
  },
  {
   "cell_type": "markdown",
   "metadata": {},
   "source": [
    "### Distributions\n",
    "\n",
    "To use the point contact in the problem, we will have to work with the Dirac delta \"function\" which is also known as a distribution. You can read about distributions in Howison.\n",
    "\n",
    "The basic idea is simple. When you have a vector space, you can talk about the linear functionals on it. For instance, in linear algebra we work with the n-dimensional vector space ${\\mathbb R}^n$. A linear functional is a real-valued linear function $L:{\\mathbb R}^n \\rightarrow {\\mathbb R}$. \n",
    "\n",
    "Linear means $L(\\mathbf{x} + \\mathbf{y}) = L(\\mathbf{x}) + L(\\mathbf{y})$ for all vectors $\\mathbf{x,y}$ and $L(\\lambda \\mathbf{x}) = \\lambda L(\\mathbf{x})$ for all scalars $\\lambda$.\n",
    "\n",
    "It is an interesting fact in linear algebra that every linear functional $L$ on ${\\mathbb R}^n$ can be represented as a dot product with some fixed vector $\\mathbf z$ (that depends on $L$). So we write:\n",
    "$$L_{\\mathbf z} (\\mathbf{x}) = {\\mathbf z}\\cdot \\mathbf{x} = \\sum_i z_i x_i.$$\n",
    "\n",
    "Now, instead of the vector space ${\\mathbb R}^n$ think of the vector space of continuous, smooth functions on the line. We write this as $C^\\infty(\\mathbb{R})$, where $\\infty$ means we have infinity many derivatives for any function in this set.\n",
    "\n",
    "To get a linear functional on this space, we can just fix any continuous function $g$ with compact support, and define the function $L_g$ by the formula\n",
    "$$L_g (f) = \\int_{-\\infty}^\\infty f(x)g(x) \\, dx. \\qquad \\mbox{ (This is also an inner product!) }$$\n",
    "\n",
    "You can easily check that this is a linear function, and real-valued, so it is a linear functional.\n",
    "\n",
    "Now, how about this functional:\n",
    "$$L(f) = f(0).$$\n",
    "Easy to check that this is a linear function, and real-valued, so it is a linear functional. Can we find a function like $g$ that works in the inner product? Well, sort of. We define a **generalized** function $\\delta$, called the Dirac delta function, that has the form\n",
    "$$\\delta(x) = \n",
    "\\left\\{\n",
    "\t\\begin{array}{ll}\n",
    "\t\t0  & \\mbox{if } x \\neq 0 \\\\\n",
    "\t\t\\infty & \\mbox{if } x = 0,\n",
    "\t\\end{array}\n",
    "\\right.\n",
    "$$\n",
    "anbd we \"normalize it so that the mass under the infinity is exactly one: $\\int_{-\\epsilon}^\\epsilon \\delta(x) dx = 1.$\n",
    "\n",
    "Okay, so that's a nutty function, but it is an example of a distribution. This is a well-developed area of mathematics, thanks to Laurent Schwartz, so although it looks weird at first, it works. Since $\\delta$ is zero everywhere except the origin, we can write $f(x) \\delta(x) = f(0)\\delta(x)$ and so\n",
    "$$\\int f(x)\\delta(x) dx = \\int f(0)\\delta(x) dx = f(0) \\int \\delta(x) dx = f(0)\\cdot 1 = f(0).$$\n",
    "\n",
    "The point is, the linear functions $L_\\delta$ is well defined, by the formula $L_\\delta(f) = f(0)$, even though\n",
    "the function $\\delta$ is kind of mysterious. Think of it as just being a symbolic representation for certain linear functionals. "
   ]
  },
  {
   "cell_type": "markdown",
   "metadata": {},
   "source": [
    "Side note: In analysis, you will have seen other function spaces like $L^2({\\mathbb R})$ which are the square-integrable measurable functions on the line. The Reisz Representation Theorem tells us every linear functional here is given by an inner production. So distribution theory is an attempt to push these ideas to other spaces of functions."
   ]
  },
  {
   "cell_type": "markdown",
   "metadata": {},
   "source": [
    "## Calculus on distributions\n",
    "\n",
    "We would like to be able to integrate and differentiate these distributions. \n",
    "\n",
    "The anti-derivative of the delta function is pretty easy to do: we set up an integral\n",
    "$$D(x) = \\int_{-\\infty}^x \\delta(x') dx' =\n",
    "\\left\\{\n",
    "\t\\begin{array}{ll}\n",
    "\t\t0  & \\mbox{if } x < 0 \\\\\n",
    "\t\t1 & \\mbox{if } x > 0.\n",
    "\t\\end{array}\n",
    "\\right.\n",
    "$$\n",
    "So the anti-derivative of $\\delta(x)$ is a function which has a jump of height one at the origin x=0.\n",
    "\n",
    "The derivative of $\\delta$ is a little more complicated. However, if you think about a regular smooth function, $g(x)$, with compact support,  the product rule for integrals gives us\n",
    "$$L_{g'}(f) = \\int_{-\\infty}^\\infty f(x)g'(x) dx = f(x)g(x)|_{-\\infty}^\\infty - \\int_{-\\infty}^\\infty f'(x)g(x) dx\n",
    "= - \\int_{-\\infty}^\\infty f'(x)g(x) = -L_{g}(f'),$$\n",
    "because that first term disappears (the function $g$ is equal to zero at $\\pm\\infty$).\n",
    "\n",
    "So we have a formula for derivatives:\n",
    "$$L_{g'}(f) = -L_{g}(f').$$\n",
    "\n",
    "Cross your fingers and hope for the best -- and extend this formula to distributions! \n",
    "\n",
    "Then for the Dirac delta function, we have\n",
    "$$L_{\\delta'}(f) = -L_\\delta(f') = -f'(0).$$\n",
    "\n",
    "That is to say, the derivative $\\frac{d}{dx}\\delta(x)$ gives the distribution that evaluates the negative derivative of f at 0.\n",
    "\n"
   ]
  },
  {
   "cell_type": "markdown",
   "metadata": {},
   "source": [
    "## Change of variables\n",
    "\n",
    "What happens if we replace $\\delta(x)$ with $\\delta(kx)$ for some constant $k>0$. It seems like this should change the area under the infinite spike. We calculate\n",
    "$$\\int_{-\\infty}^\\infty \\delta(kx) dx = \\int_{-\\infty}^\\infty \\delta(x') dx'/k = \\frac{1}{k} \n",
    "\\int_{-\\infty}^\\infty \\delta(x') dx' = \\frac{1}{k},$$\n",
    "using the change of variables formula. \n",
    "\n",
    "As distributions, we can then write\n",
    "$$\\delta(kx) = \\frac{1}{k}\\delta(x).$$\n",
    "\n",
    "We will use this fact below, so you might want to convince yourself of this. \n"
   ]
  },
  {
   "cell_type": "markdown",
   "metadata": {},
   "source": [
    "## Visualize?\n",
    "\n",
    "Can you visualize $\\frac{d}{dx}\\delta(x)$ as a function? Some say you can think of it as two infinite spikes, a positive one just to the left of the origin, and positive spike just to the right of the origin. \n",
    "\n",
    "If that works for you, great!"
   ]
  },
  {
   "cell_type": "markdown",
   "metadata": {},
   "source": [
    "## Back to the Pantograph\n",
    "\n",
    "Let's set up some equations to describe the electric wire about the train, and the pantograph that touches the wire.\n",
    "\n",
    "We start off with a function $y(x,t)$ that measure the height of the wire above the horizontal line connecting two supports. (We assume the supports are at the same level.)\n",
    "\n",
    "At the supports, there is zero displacement, so we get the boundary conditions\n",
    "$$y(0,t) = 0, \\qquad y(L,t) = 0,$$\n",
    "where here we are assuming the supports are at $x=0$ and $x=L$, so separated by a distance $L$.\n",
    "\n",
    "The train moves at fixed speed $U$ so we can say at time $t$ the train is at point $x=Ut$. The height of the pantograph at that time is then\n",
    "$$Y(t) = y(Ut,t).$$\n",
    "\n",
    "We expect the wire to behave like an elastic string, so we get a 1D wave equation in $y(x,t)$, with a forcing term that comes from the pantograph contact, and gravity. We write:\n",
    "$$\\rho\\frac{\\partial^2 y}{\\partial t^2} - K\\frac{\\partial^2 y}{\\partial x^2} = F(t)\\delta(x-Ut) - \\rho g.$$\n",
    "Here, $\\rho$ is the linear density of the wire, $K$ is the elasticity constant, $F(t)$ is the force from the pantograph, and the factor $\\delta(x-Ut)$ concentrates the force at the point of contact on the wire. \n",
    "\n",
    "(The term $\\rho g$ is just the force of gravity. Howison uses T instead of K, but I am bowing to pressure from the students to use K. Okay!)\n",
    "\n",
    "For an initial condition for the wire, assume there is no train, no force from the pantograph and there is no motion (everything constant with respect to time.) The equation for the initial conditions is thus\n",
    "$$ - K\\frac{\\partial^2 y}{\\partial x^2} =  - \\rho g,$$\n",
    "which says the second derivative is a constant. So the solution is a quadratic in x, and remembering our boundary conditions, we solve as $$y(x,0) = \\frac{\\rho g}{2K} x(x-L).$$\n",
    "\n",
    "### The force\n",
    "\n",
    "Well, the force is due to a linear spring, with damping. So it will look something like this\n",
    "$$F(t) = F_0 - F_1Y(t) - F_2 \\frac{d}{dt}Y(t),$$\n",
    "where there first two terms give the linear part (due to displacement $Y(t) = y(Ut,t)$) and the third term is the damping term. \n"
   ]
  },
  {
   "cell_type": "markdown",
   "metadata": {},
   "source": [
    "### Non-dimensionalization.\n",
    "\n",
    "We have some obvious dimensional parameters. There is the length $L$ between supports, there is the wavespeed $c = \\sqrt{K/\\rho}$, and there is the time it takes for a wave to travel from one support to another, $L/c$. This gives the substitutions\n",
    "- $x = Lx'$\n",
    "- $U = cu$\n",
    "- $t = \\frac{L}{c} t'$\n",
    "where $x',u,t'$ are all dimentionless. Howison suggests scaling $y$ by the typical displacement due to the pantograph, which he says is $F_0L/K$. You might want to think about this -- the units seem funny to me. But I think it is because there is a hidden unit inside the function $\\delta(x-Ut).$  (It is a unit of length$^{-1}$ -- see if you can figure out why.)\n",
    "\n",
    "So we try\n",
    "- $y = \\frac{F_0 L}{K}y'$\n",
    "\n",
    "Plugging in these four substitutions into the PDE above, we get\n",
    "$$ \\rho\\frac{\\partial^2 (F_0 Ly'/K)}{\\partial (Lt'/c)^2} - K\\frac{\\partial^2 (F_0 Ly'/K)}{\\partial (Lx')^2} = F(Lt'/c)\\delta(Lx'-cu(L/c)t') - \\rho g,$$\n",
    "and pulling out the constants we get\n",
    "$$\\rho \\frac{F_0 c^2}{LK}\\frac{\\partial^2 y'}{\\partial t'^2} - K \\frac{F_0}{KL} \\frac{\\partial^2 y'}{\\partial x'^2} = \n",
    "F(Lt'/c)\\delta(L(x'-ut')) - \\rho g.$$\n",
    "\n",
    "The parameters $K,\\rho,c^2$ all cancel, and pulling out the $L$ from the $\\delta$ function we get\n",
    "\n",
    "$$\\frac{F_0}{L}\\frac{\\partial^2 y'}{\\partial t'^2} -  \\frac{F_0}{L} \\frac{\\partial^2 y'}{\\partial x'^2} = \n",
    "F(Lt'/c)\\frac{1}{L}\\delta(x'-ut') - \\rho g.$$\n",
    "\n",
    "Bringing the $F_0/L$ to the other side and dropping primes, we have\n",
    "$$\\frac{\\partial^2 y}{\\partial t^2} -   \\frac{\\partial^2 y}{\\partial x^2} = \n",
    "\\frac{F(Lt/c)}{F_0}\\delta(x-ut) - \\frac{\\rho g L}{F_0}.$$\n",
    "\n",
    "The term on the far right, $\\frac{\\rho g L}{F_0}$, is a ratio of the force of gravity, to the typical force due to the pantograph. \n",
    "\n",
    "I have this sneaking suspicion that Howison isnt going to worry too much about the forcing term and its units, as he just rewrites it as \n",
    "$$\\frac{F(Lt/c)}{F_0} \\equiv f(t) = f_0 - f_1Y(t) - f_2 \\frac{dY}{dt}.$$\n",
    "Here, he has redifined $Y$ now in terms of the dimensionless parameters, $Y(t) = y(ut,t)$."
   ]
  },
  {
   "cell_type": "markdown",
   "metadata": {},
   "source": [
    "## To summarize\n",
    "\n",
    "The nondimensionalize version is written as\n",
    "$$\\frac{\\partial^2 y}{\\partial t^2} -   \\frac{\\partial^2 y}{\\partial x^2} = \n",
    "f(t)\\delta(x-ut) - \\alpha,$$\n",
    "where $\\alpha$ is a small parameter (a ratio of forces) and $f(t) = f_0 - f_1Y(t) - f_2 Y'(t)$ is the linear, damped spring. Boundary conditions are\n",
    "$$y(0,t) = 0 = y(1,t).$$\n",
    "Initial condition is\n",
    "$$y(x,0) = \\frac{\\alpha}{2}x(1-x).$$\n"
   ]
  },
  {
   "cell_type": "markdown",
   "metadata": {},
   "source": [
    "### Next:\n",
    "\n",
    "What happens when we solve?"
   ]
  },
  {
   "cell_type": "code",
   "execution_count": null,
   "metadata": {},
   "outputs": [],
   "source": []
  }
 ],
 "metadata": {
  "kernelspec": {
   "display_name": "Python 3",
   "language": "python",
   "name": "python3"
  },
  "language_info": {
   "codemirror_mode": {
    "name": "ipython",
    "version": 3
   },
   "file_extension": ".py",
   "mimetype": "text/x-python",
   "name": "python",
   "nbconvert_exporter": "python",
   "pygments_lexer": "ipython3",
   "version": "3.6.7"
  }
 },
 "nbformat": 4,
 "nbformat_minor": 1
}
