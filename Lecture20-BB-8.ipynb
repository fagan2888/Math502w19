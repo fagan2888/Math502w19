{
 "cells": [
  {
   "cell_type": "markdown",
   "metadata": {},
   "source": [
    "## BB8 as a control problem\n"
   ]
  },
  {
   "cell_type": "code",
   "execution_count": 1,
   "metadata": {},
   "outputs": [],
   "source": [
    "from numpy import *\n",
    "from math import tau\n",
    "from matplotlib.pyplot import *\n",
    "from ipywidgets import interact, widgets\n",
    "from scipy.integrate import odeint # This is the numerical solver\n"
   ]
  },
  {
   "cell_type": "markdown",
   "metadata": {},
   "source": [
    "## Here's a video of the BB-8 from StarWars"
   ]
  },
  {
   "cell_type": "code",
   "execution_count": 2,
   "metadata": {},
   "outputs": [
    {
     "data": {
      "text/html": [
       "<iframe width=\"560\" height=\"315\" src=\"https://www.youtube.com/embed/A_K10fX9DSY?start=30\" frameborder=\"0\" allow=\"accelerometer; autoplay; encrypted-media; gyroscope; picture-in-picture\" allowfullscreen></iframe>"
      ],
      "text/plain": [
       "<IPython.core.display.HTML object>"
      ]
     },
     "metadata": {},
     "output_type": "display_data"
    }
   ],
   "source": [
    "%%HTML\n",
    "<iframe width=\"560\" height=\"315\" src=\"https://www.youtube.com/embed/A_K10fX9DSY?start=30\" frameborder=\"0\" allow=\"accelerometer; autoplay; encrypted-media; gyroscope; picture-in-picture\" allowfullscreen></iframe>"
   ]
  },
  {
   "cell_type": "markdown",
   "metadata": {},
   "source": [
    "## Let's draw\n",
    "\n",
    "We want to draw a 2D version, a circle on top of a big circle.\n",
    "\n",
    "Let's practice our drawing, then animate with widgets, then use this to figure out the rolling constraints of the little ball on the big ball.\n",
    "\n",
    "Then when we solve the ODEs for the ball, we should get something interesting that we can hook into the animation immediately."
   ]
  },
  {
   "cell_type": "code",
   "execution_count": 3,
   "metadata": {},
   "outputs": [
    {
     "data": {
      "image/png": "[encoded data removed]",
      "text/plain": [
       "<Figure size 432x288 with 1 Axes>"
      ]
     },
     "metadata": {
      "needs_background": "light"
     },
     "output_type": "display_data"
    }
   ],
   "source": [
    "circle_x = cos(linspace(0,tau))\n",
    "circle_y = sin(linspace(0,tau))\n",
    "plot(circle_x,circle_y)\n",
    "axis('equal');"
   ]
  },
  {
   "cell_type": "code",
   "execution_count": 4,
   "metadata": {},
   "outputs": [
    {
     "data": {
      "image/png": "[encoded data removed]",
      "text/plain": [
       "<Figure size 432x288 with 1 Axes>"
      ]
     },
     "metadata": {
      "needs_background": "light"
     },
     "output_type": "display_data"
    }
   ],
   "source": [
    "t1 = 0 # angle of big circle B\n",
    "t2 = 0 # angle of small circle S\n",
    "t3 = 0 # angle to position small circle\n",
    "R = 3 # radius of big circle\n",
    "r = 1 # radius of small circle\n",
    "\n",
    "Bcirc_x = R*circle_x\n",
    "Bcirc_y = R*circle_y\n",
    "\n",
    "Scirc_x = r*circle_x - (R+r)*sin(t3)\n",
    "Scirc_y = r*circle_y + (R+r)*cos(t3)\n",
    "\n",
    "Bline_x = [0,-R*sin(t1)]\n",
    "Bline_y = [0, R*cos(t1)]\n",
    "\n",
    "Sline_x = [-(R+r)*sin(t3),-(R+r)*sin(t3)-r*sin(t2)]\n",
    "Sline_y = [ (R+r)*cos(t3), (R+r)*cos(t3)+r*cos(t2)]\n",
    "\n",
    "Dline_x = [-(R+r)*sin(t3),0]\n",
    "Dline_y = [ (R+r)*cos(t3),0]\n",
    "\n",
    "plot(Bcirc_x,Bcirc_y,Scirc_x,Scirc_y)\n",
    "axis('equal');\n",
    "plot(Bline_x,Bline_y,Sline_x,Sline_y,Dline_x,Dline_y,'--');"
   ]
  },
  {
   "cell_type": "code",
   "execution_count": 5,
   "metadata": {},
   "outputs": [
    {
     "data": {
      "application/vnd.jupyter.widget-view+json": {
       "model_id": "7ee2c69747bd441d84e1289c6ced21b3",
       "version_major": 2,
       "version_minor": 0
      },
      "text/plain": [
       "interactive(children=(FloatSlider(value=0.0, description='t1', max=6.283185307179586), FloatSlider(value=0.0, …"
      ]
     },
     "metadata": {},
     "output_type": "display_data"
    }
   ],
   "source": [
    "def myDisplay(t1=0,t2=0,t3=0):\n",
    "    Bcirc_x = R*circle_x\n",
    "    Bcirc_y = R*circle_y\n",
    "    Scirc_x = r*circle_x - (R+r)*sin(t3)\n",
    "    Scirc_y = r*circle_y + (R+r)*cos(t3)\n",
    "    Bline_x = [0,-R*sin(t1)]\n",
    "    Bline_y = [0, R*cos(t1)]\n",
    "    Sline_x = [-(R+r)*sin(t3),-(R+r)*sin(t3)-r*sin(t2)]\n",
    "    Sline_y = [ (R+r)*cos(t3), (R+r)*cos(t3)+r*cos(t2)]\n",
    "    Dline_x = [-(R+r)*sin(t3),0]\n",
    "    Dline_y = [ (R+r)*cos(t3),0]\n",
    "    fig = figure()\n",
    "    ax = fig.add_subplot(111)\n",
    "    ax.plot(Bcirc_x,Bcirc_y,Scirc_x,Scirc_y)\n",
    "    ax.plot(Bline_x,Bline_y,Sline_x,Sline_y,Dline_x,Dline_y,'--'); \n",
    "    ax.axis([-R-2*r,R+2*r,-R-2*r,R+2*r])\n",
    "    ax.axis('equal')\n",
    "    ylim([-R-2*r,R+2*r])\n",
    "    return\n",
    "\n",
    "interact(myDisplay,t1=(0,tau),t2=(0,tau),t3=(0,tau));"
   ]
  },
  {
   "cell_type": "markdown",
   "metadata": {},
   "source": [
    "## Constraints on the angles\n",
    "\n",
    "There is a constraint between the angles t1,t2,t3 if the circles roll against each other without slipping. \n",
    "\n",
    "The constraint says something about the distance the circles roll along the surface, which is a linear constraint then, so we can write\n",
    "$$a t_1 + bt_2 + c t_3 = k.$$\n",
    "However, if all the angles are zero, the constraint is satisfied (see picture, where we pointed all the directions upwards at angles zero), so the constant k in the equation is zero.\n",
    "$$a t_1 + bt_2 + c t_3 = 0.$$\n",
    "\n",
    "If the third angle t3 is held at zero, then the two circles rotate like gears, in opposite directions, with ratios given by the ratio of their radii, so we have \n",
    "$$ Rt_1 = -rt_2. (\\mbox{ with $t_3 = 0$). }$$\n",
    "\n",
    "If the first angle t1 is held at zero, then the small circle just rolls around the big circle. As t3 goes from 0 to 2pi, the small circle rotates a total of $R/r + 1$ times. (We pick up an extra rotation as the gear goes around in orbit.) So this tells us the linear equation in this case is\n",
    "$$ (R+r)t_3 = rt_2. (\\mbox{ with $t_1 = 0$). }$$\n",
    "\n",
    "Put these together and we conclude the constraint is\n",
    "$$Rt_1 + rt_2 = (R+r)t_3.$$\n",
    "\n",
    "We can check this in our animation as follows:"
   ]
  },
  {
   "cell_type": "code",
   "execution_count": 6,
   "metadata": {},
   "outputs": [
    {
     "data": {
      "application/vnd.jupyter.widget-view+json": {
       "model_id": "215e6a4d35664952ad9bccf85ae139d2",
       "version_major": 2,
       "version_minor": 0
      },
      "text/plain": [
       "interactive(children=(FloatSlider(value=0.0, description='t1', max=6.283185307179586), FloatSlider(value=0.0, …"
      ]
     },
     "metadata": {},
     "output_type": "display_data"
    }
   ],
   "source": [
    "def myDisplay2(t1=0,t2=0):\n",
    "    t3 = (r*t2+R*t1)/(R+r)  ## the constraint on angles\n",
    "    Bcirc_x = R*circle_x\n",
    "    Bcirc_y = R*circle_y\n",
    "    Scirc_x = r*circle_x - (R+r)*sin(t3)\n",
    "    Scirc_y = r*circle_y + (R+r)*cos(t3)\n",
    "    Bline_x = [0,-R*sin(t1)]\n",
    "    Bline_y = [0, R*cos(t1)]\n",
    "    Sline_x = [-(R+r)*sin(t3),-(R+r)*sin(t3)-r*sin(t2)]\n",
    "    Sline_y = [ (R+r)*cos(t3), (R+r)*cos(t3)+r*cos(t2)]\n",
    "    Dline_x = [-(R+r)*sin(t3),0]\n",
    "    Dline_y = [ (R+r)*cos(t3),0]\n",
    "    fig = figure()\n",
    "    ax = fig.add_subplot(111)\n",
    "    ax.plot(Bcirc_x,Bcirc_y,Scirc_x,Scirc_y)\n",
    "    ax.plot(Bline_x,Bline_y,Sline_x,Sline_y,Dline_x,Dline_y,'--'); \n",
    "#    ax.axis([-R-2*r,R+2*r,-R-2*r,R+2*r])\n",
    "    ax.axis('equal')\n",
    "#    xlim([-R-2*r,R+2*r])\n",
    "    ylim([-R-2*r,R+2*r])\n",
    "    return\n",
    "\n",
    "interact(myDisplay2,t1=(0,tau),t2=(0,tau));"
   ]
  },
  {
   "cell_type": "markdown",
   "metadata": {},
   "source": [
    "## Finding the equations of motion\n",
    "\n",
    "We could look at forces and try to figure out the equations of motion. For me, it is easier just to do Lagrangian mechanics. Just identify energy in the system, and build the system of ODEs."
   ]
  },
  {
   "cell_type": "markdown",
   "metadata": {},
   "source": [
    "## Set up the Lagrangian\n",
    "\n",
    "#### Kinetic energy (due to rotational energy of the two disks, and linear energy of the little disc. \n",
    "\n",
    "We assume the big disk is rotating in place, so its mass does not appear -- no linear momentum. (We can change this assuption later, and have the big disk actually roll along the ground. ) So we just add the two rotational energies, and then the linear energy of the disk. Expressed in terms of the changing angles.\n",
    "\n",
    "\n",
    "$$KE = \\frac{1}{2}I_1 \\dot\\theta_1^2 + \\frac{1}{2}I_2 \\dot\\theta_2^2 + \\frac{1}{2}m_2(R+r) \\dot\\theta_3^2.$$ \n",
    "\n",
    "#### Potential energy (gravity on top mass)\n",
    "\n",
    "$$ PE = m_2 g (R+r)\\cos(\\theta_3).$$\n",
    "\n",
    "#### Lagrangian\n",
    "\n",
    "$$ L = KE - PE $$\n",
    "\n",
    "Equations of motion\n",
    "\n",
    "$$\\frac{d}{dt}\\left( \\frac{\\partial L}{\\partial \\dot\\theta_i} \\right) - \\frac{\\partial L}{\\partial \\theta_i} = 0.$$\n",
    "\n"
   ]
  },
  {
   "cell_type": "markdown",
   "metadata": {},
   "source": [
    "#### Constraint\n",
    "\n",
    "$$R\\theta_1 + r\\theta_2 = (R+r)\\theta_3.$$\n",
    "\n",
    "So reduces the dimension of the problem.\n"
   ]
  },
  {
   "cell_type": "markdown",
   "metadata": {},
   "source": [
    "## Reduced Lagrangian\n",
    "\n",
    "#### Kinetic energy\n",
    "\n",
    "$$KE = \\frac{1}{2}I_1 \\dot\\theta_1^2 + \\frac{1}{2}I_2 \\dot\\theta_2^2 + \n",
    "    \\frac{m_2}{2(R+r)} (R\\dot\\theta_1 + r\\dot\\theta_2)^2.$$ \n",
    "\n",
    "#### Potential energy (gravity on top mass)\n",
    "\n",
    "$$ PE = m_2 g (R+r)\\cos(\\frac{R\\theta_1 + r\\theta_1}{R+r}).$$\n",
    "\n",
    "#### Lagrangian\n",
    "\n",
    "$$ L = KE - PE $$\n",
    "\n",
    "Equations of motion, for $i=1,2$:\n",
    "\n",
    "$$\\frac{d}{dt}\\left( \\frac{\\partial L}{\\partial \\dot\\theta_i} \\right) - \\frac{\\partial L}{\\partial \\theta_i} = 0.$$\n",
    "\n",
    "For $\\theta_1$:\n",
    "\n",
    "$$\\frac{d}{dt}\\left( I_1 \\dot\\theta_1 + \\frac{m_2R}{R+r} (R\\dot\\theta_1 + r\\dot\\theta_2) \\right)\n",
    "+ m_2 g R \\sin(\\frac{R\\theta_1 + r\\theta_2}{R+r}) =0,$$\n",
    "so\n",
    "$$ I_1 \\ddot\\theta_1 + \\frac{m_2R}{R+r} (R\\ddot\\theta_1 + r\\ddot\\theta_2) \n",
    "+ m_2 g R \\sin(\\frac{R\\theta_1 + r\\theta_2}{R+r}) =0.$$\n",
    "\n",
    "For $\\theta_2$:\n",
    "\n",
    "$$\\frac{d}{dt}\\left( I_2 \\dot\\theta_2 + \\frac{m_2r}{R+r} (R\\dot\\theta_1 + r\\dot\\theta_2) \\right)\n",
    "+ m_2 g r \\sin(\\frac{R\\theta_1 + r\\theta_2}{R+r}) =0,$$\n",
    "so\n",
    "$$ I_2 \\ddot\\theta_2 + \\frac{m_2r}{R+r} (R\\ddot\\theta_1 + r\\ddot\\theta_2) \n",
    "+ m_2 g r \\sin(\\frac{R\\theta_1 + r\\theta_2}{R+r}) =0.$$\n",
    "\n"
   ]
  },
  {
   "cell_type": "markdown",
   "metadata": {},
   "source": [
    "## Adding a control\n",
    "\n",
    "These two equations have the units of a torque (Force times a distance). If we add a little motor that can apply a force of value $u = u(t)$ at the interface, we should get a torque of $ru$ on the small ball, and $Ru$ on the big ball. So our control equation will have the form:\n",
    "\n",
    "$$ I_1 \\ddot\\theta_1 + \\frac{m_2R}{R+r} (R\\ddot\\theta_1 + r\\ddot\\theta_2) \n",
    "+ m_2 g R \\sin(\\frac{R\\theta_1 + r\\theta_2}{R+r}) +Ru =0.$$\n",
    "\n",
    "$$ I_2 \\ddot\\theta_2 + \\frac{m_2r}{R+r} (R\\ddot\\theta_1 + r\\ddot\\theta_2) \n",
    "+ m_2 g r \\sin(\\frac{R\\theta_1 + r\\theta_2}{R+r}) - ru =0.$$\n",
    "\n",
    "Should these torques have opposite signs? I think so. The first guess is that forces are equal and opposite (Newton's law). The second guess is, if we are smart enough to control the system so the $\\theta_3 = constant$, then the middle term vanishes. In that case, the little ball is hanging off the side of the big ball, so both have to be accelerating in order to keep $\\theta_3$ constant. However, they are accerating in opposite directions, since the circles act like gears, so they move in opposite directions. SO, I think this is right."
   ]
  },
  {
   "cell_type": "markdown",
   "metadata": {},
   "source": [
    "## Simplify the parameters\n",
    "\n",
    "Let $k = R/(R+r)$ and $k' = r/(R+r)$. Divide the above equations by $m_2$, and $R,r$. We get\n",
    "\n",
    "$$ \\frac{I_1}{m_2R} \\ddot\\theta_1 + k\\ddot\\theta_1 + k'\\ddot\\theta_2 \n",
    "+  g  \\sin(k\\theta_1 + k'\\theta_2) +u/m_2 =0.$$\n",
    "\n",
    "$$ \\frac{I_2}{m_2 r} \\ddot\\theta_2 + k\\ddot\\theta_1 + k'\\ddot\\theta_2 \n",
    "+ g  \\sin(k\\theta_1 + k'\\theta_2) - u/m_2 =0.$$\n",
    "\n",
    "Maybe this gets easier if we let $\\phi_1 = k\\theta_1, \\phi_2 = k'\\theta_2$ and $I'_1 = \\frac{I_1}{m_2Rk}, I'_2 = \\frac{I_2}{m_2rk'}.$ Rescale $u$ as well. We now have\n",
    "\n",
    "$$ I_1' \\ddot\\phi_1 + \\ddot\\phi_1 + \\ddot\\phi_2 \n",
    "+  g  \\sin(\\phi_1 + \\phi_2) + u =0.$$\n",
    "\n",
    "$$ I_2' \\ddot\\phi_2 + \\ddot\\phi_1 + \\ddot\\phi_2 \n",
    "+ g  \\sin(\\phi_1 + \\phi_2) - u =0.$$\n",
    "\n",
    "This is a 2x2 linear system in unknowns $\\ddot\\phi_1, \\ddot\\phi_2$, so we solve as\n",
    "$$\\ddot\\phi_1 = \\frac{-I_2' [u+g\\sin(\\phi_1 + \\phi_2)] - 2u}{I_1' + I_2' + I_1' I_2'},$$\n",
    "$$\\ddot\\phi_2 = \\frac{I_1' [u-g\\sin(\\phi_1 + \\phi_2)] + 2u}{I_1' + I_2' + I_1' I_2'}.$$\n"
   ]
  },
  {
   "cell_type": "markdown",
   "metadata": {},
   "source": [
    "## Sanity check\n",
    "\n",
    "If $u=0$, then we see gravity will accelerate the first angle $\\phi_1$ in one direction, and accelerate the other in the opposite direction (since the signs are opposite). So that makes sense, as these are gears.\n",
    "\n",
    "If the $\\sin$ is zero, then the action of the control is in opposite directions. Again, this makes sense as these circles act tike gears. So it seem we have the signs right.\n",
    "\n",
    "## Non-dimensionalizing.\n",
    "\n",
    "Looks like we can rescale time to get rid of the denominator and rescale the force $u$ to be relative to gravity $g$. So I think we are okay with a system like this (dropping primes):\n",
    "\n",
    "$$\\ddot\\phi_1 = -I_2 [u+\\sin(\\phi_1 + \\phi_2)] - 2u,$$\n",
    "$$\\ddot\\phi_2 =  I_1 [u-\\sin(\\phi_1 + \\phi_2)] + 2u.$$\n",
    "\n"
   ]
  },
  {
   "cell_type": "markdown",
   "metadata": {},
   "source": [
    "## Notice we have no noise, no friction. We can worry about that later."
   ]
  },
  {
   "cell_type": "markdown",
   "metadata": {},
   "source": [
    "## The control strategy\n",
    "\n",
    "How do we implement the control? \n",
    "\n",
    "Well, first we have to decide what we are aiming for. I like the idea of trying to get the big circle moving at a constant speed. For optimal control, we want to go from rest to that constant speed, in as short a time as possible.\n",
    "\n",
    "The natural thing to do is to have the little circle hang off the edge of the big circle, as far as possible. That way gravity and the motor can work together to accelerate the big circle. \n",
    "\n",
    "However, we can't go too far off to the side of the big circle, or we might fall off. Or, we lose traction. So we have a natural limit for the direction angle $\\theta_3$, limit it to, say plus or minus 30 degrees. \n",
    "\n",
    "Notice $\\theta_3 = \\phi_1 + \\phi_2$ which is convenient. \n",
    "\n",
    "An interesting question is -- how do we get started? If we start at rest, with the little circle on top, then the sine term is zero. Should we accelerate to the left or to the right, to get where we want to go? Because the circles will go in opposite directions -- where do we end up?\n",
    "\n",
    "I suspect this may have something to do with the relative sizes of those (rescaled) constants $I_1,I_2.$"
   ]
  },
  {
   "cell_type": "markdown",
   "metadata": {},
   "source": [
    "## Getting started.\n",
    "\n",
    "If we start at rest, we have $\\phi_1 + \\phi_2$ = 0, so we can linearize the sine function and get a linear syste,\n",
    "\n",
    "$$\\ddot\\phi_1 = -I_2 [\\phi_1 + \\phi_2] - (2+ I_2)u,$$\n",
    "$$\\ddot\\phi_2 =  I_1 [\\phi_1 + \\phi_2] + (2+I_1)u.$$\n",
    "\n",
    "The eigenvalues for this system are 0 and $I_1-I_2$, the second one we expect is possible (the big circle has t alot of rotational inertia). So the system will have linear growth in the 0-eigendirection, and quadratic in the other direction. For small angles, the linear growth wins. \n",
    "\n",
    "So, to get started, we should accelerate to move the small circle **towards** the side where we want it to hang off the edge.\n",
    "\n",
    "I think this is ready to implement with ODEint solver.\n"
   ]
  },
  {
   "cell_type": "code",
   "execution_count": 7,
   "metadata": {},
   "outputs": [
    {
     "data": {
      "image/png": "[encoded data removed]",
      "text/plain": [
       "<Figure size 432x288 with 1 Axes>"
      ]
     },
     "metadata": {
      "needs_background": "light"
     },
     "output_type": "display_data"
    }
   ],
   "source": [
    "I1 = 4\n",
    "I2 = 1\n",
    "\n",
    "def rhs(Phis,t,omega):  # this is the function of the right hand side of the ODE\n",
    "    phi1,phi1dot,phi2,phi2dot = Phis\n",
    "    return phi1dot,-I2*sin(phi1+phi2),phi2dot,I1*sin(phi1+phi2)\n",
    "\n",
    "t_arr=linspace(0,10,101)\n",
    "Phis_init =[0,0,0,.5]\n",
    "omega = 2.0\n",
    "Phis_arr=odeint(rhs,Phis_init,t_arr, args=(omega,))\n",
    "phi1,phi2 = Phis_arr[:,0],Phis_arr[:,2]\n",
    "ion()\n",
    "plot(t_arr,phi1,t_arr,phi2);"
   ]
  },
  {
   "cell_type": "code",
   "execution_count": 8,
   "metadata": {},
   "outputs": [
    {
     "data": {
      "application/vnd.jupyter.widget-view+json": {
       "model_id": "19f409c47d9e4cce8c074bb219a0e6e4",
       "version_major": 2,
       "version_minor": 0
      },
      "text/plain": [
       "interactive(children=(IntSlider(value=0, description='n'), Output()), _dom_classes=('widget-interact',))"
      ]
     },
     "metadata": {},
     "output_type": "display_data"
    }
   ],
   "source": [
    "def myDisplay3(n=0):\n",
    "    t1 = Phis_arr[n,0]*(R+r)/R  ## convert from phi's back to thetas!\n",
    "    t2 = Phis_arr[n,2]*(R+r)/r\n",
    "    t3 = (r*t2+R*t1)/(R+r)  ## the constraint on angles\n",
    "    Bcirc_x = R*circle_x\n",
    "    Bcirc_y = R*circle_y\n",
    "    Scirc_x = r*circle_x - (R+r)*sin(t3)\n",
    "    Scirc_y = r*circle_y + (R+r)*cos(t3)\n",
    "    Bline_x = [0,-R*sin(t1)]\n",
    "    Bline_y = [0, R*cos(t1)]\n",
    "    Sline_x = [-(R+r)*sin(t3),-(R+r)*sin(t3)-r*sin(t2)]\n",
    "    Sline_y = [ (R+r)*cos(t3), (R+r)*cos(t3)+r*cos(t2)]\n",
    "    Dline_x = [-(R+r)*sin(t3),0]\n",
    "    Dline_y = [ (R+r)*cos(t3),0]\n",
    "    fig = figure()\n",
    "    ax = fig.add_subplot(111)\n",
    "    ax.plot(Bcirc_x,Bcirc_y,Scirc_x,Scirc_y)\n",
    "    ax.plot(Bline_x,Bline_y,Sline_x,Sline_y,Dline_x,Dline_y,'--'); \n",
    "#    ax.axis([-R-2*r,R+2*r,-R-2*r,R+2*r])\n",
    "    ax.axis('equal')\n",
    "#    xlim([-R-2*r,R+2*r])\n",
    "    ylim([-R-2*r,R+2*r])\n",
    "    return\n",
    "\n",
    "Phis_arr=odeint(rhs,Phis_init,t_arr, args=(omega,))\n",
    "phi1,phi2 = Phis_arr[:,0],Phis_arr[:,2]\n",
    "interact(myDisplay3,n=(0,100));"
   ]
  },
  {
   "cell_type": "code",
   "execution_count": 9,
   "metadata": {},
   "outputs": [
    {
     "data": {
      "application/vnd.jupyter.widget-view+json": {
       "model_id": "b3db9e64529441b3b1df09fc31732b81",
       "version_major": 2,
       "version_minor": 0
      },
      "text/plain": [
       "HBox(children=(Play(value=50, description='Press play'), IntSlider(value=0)))"
      ]
     },
     "metadata": {},
     "output_type": "display_data"
    }
   ],
   "source": [
    "play = widgets.Play(\n",
    "#     interval=10,\n",
    "    value=50,\n",
    "    min=0,\n",
    "    max=100,\n",
    "    step=1,\n",
    "    description=\"Press play\",\n",
    "    disabled=False\n",
    ")\n",
    "slider = widgets.IntSlider()\n",
    "widgets.jslink((play, 'value'), (slider, 'value'))\n",
    "widgets.HBox([play, slider])"
   ]
  }
 ],
 "metadata": {
  "kernelspec": {
   "display_name": "Python 3",
   "language": "python",
   "name": "python3"
  },
  "language_info": {
   "codemirror_mode": {
    "name": "ipython",
    "version": 3
   },
   "file_extension": ".py",
   "mimetype": "text/x-python",
   "name": "python",
   "nbconvert_exporter": "python",
   "pygments_lexer": "ipython3",
   "version": "3.7.2"
  }
 },
 "nbformat": 4,
 "nbformat_minor": 2
}
