{
 "cells": [
  {
   "cell_type": "markdown",
   "metadata": {},
   "source": [
    "# AMAT502:  Lecture 23. Inverse problems. \n",
    "\n",
    "April 6, 2019.\n",
    "\n",
    "Michael Lamoureux"
   ]
  },
  {
   "cell_type": "code",
   "execution_count": 2,
   "metadata": {},
   "outputs": [],
   "source": [
    "## Some startup commands\n",
    "\n",
    "%matplotlib inline\n",
    "from numpy import * \n",
    "from scipy import *\n",
    "from math import tau\n",
    "from matplotlib.pyplot import *\n",
    "\n",
    "from mpl_toolkits.mplot3d import Axes3D\n",
    "from matplotlib.pyplot import *\n",
    "from matplotlib import cm\n"
   ]
  },
  {
   "cell_type": "markdown",
   "metadata": {},
   "source": [
    "## Assignment 4\n",
    "\n",
    "We ran over the solutions to Assignment 4. Solutions posted on Github."
   ]
  },
  {
   "cell_type": "markdown",
   "metadata": {},
   "source": [
    "## Inverse Problems\n",
    "\n",
    "Basic idea. Measure some data, deduce something about something \"hidden.\"\n",
    "\n",
    "#### Examples.\n",
    "\n",
    "1. Record positions and times of a falling object. Use this to determine acceleration due to gravity. (Can do this to an accuracy of 1 part in a billion.)\n",
    "\n",
    "2. Record electrical conductivity of an object: human body, a lump of dirt, the ground near the surface of the earth that has been contaminated with an oil spill or something. Use this to create an image (of what's inside the human body, or what's in the dirt.)\n",
    "\n",
    "3. Record adsorbtion of X-rays going through the human body (CT scan) or through some material like a wall or a bridge (non-destructive testing). Create an image of what is inside, without having to cut anything open.\n",
    "\n",
    "#### Basic set up\n",
    "\n",
    "Model m = some physical parameters of some system\n",
    "\n",
    "Data d = data from some measurements\n",
    "\n",
    "We assume the physics is understood well enough that we can describe the process of going from model m to data d. THis gives an operator G with\n",
    "$$d = G(m).$$\n",
    "In real life, there is always noise in the data, so we might write\n",
    "$$d = G(m_{true}) + \\eta \\,(noise).$$\n",
    "\n",
    "1. Given m, can we find d? (This is the **Forward Problem.**)\n",
    "2. Given d, can we find m? (This is the **Inverse Problem.**)\n",
    "3. Given m and d, can we find G? (This is the **Systems Identification Problem.**)\n",
    "\n",
    "Today we are mainly interested in **Inverse Problems.**\n",
    "\n",
    "\n",
    "## Categories of inverse problems\n",
    "\n",
    "1. Discrete problems. Data d and model m are finite vectors. If number of components in m is small, it is called a **parameter estimation problem.**\n",
    "\n",
    "2. Continuous problems. When m,d are functions of space and time. For instance, our model might be the density of the earth (or of the human body). The model $m = m(x,y,z)$ is a function of space, not just a vector. \n",
    "\n",
    "The process of going from continuous to a discrete approximation is an important option in solving these problems.\n",
    "\n",
    "3. Linear systems. When the operator $G$ is linear.\n",
    " - $G(m_1 + m_2) = G(m_1) + G(m_2).$\n",
    " - $G(\\alpha m) = \\alpha G(m).$\n",
    " \n",
    " \n",
    "### Linear examples\n",
    "\n",
    "1. Kernel operators\n",
    "$$d(x) = \\int_a^b g(x,y)m(y) dy.$$\n",
    "\n",
    "2. Convolution operators\n",
    "$$d(x) = \\int_{-\\infty}^\\infty g(x-y)m(y) dy.$$\n",
    "Leads to a deconvolution problem. Important in seismic imaging, radar imaging, and more\n",
    "\n",
    "3. Fourier transforms\n",
    "$$F(f)(\\omega) = \\int_{-\\infty}^\\infty f(x)e^{2\\pi i x\\omega}  dx.$$\n",
    "In the FT case, you often have only partial information, still want to recover the function $f(x)$ as best you can. \n",
    "\n",
    "These examples come up in medical imaging, geophysical imaging, non-destructive testing. All kinds of mathematical modelling problems."
   ]
  },
  {
   "cell_type": "markdown",
   "metadata": {},
   "source": [
    "## Real example. Falling object\n",
    "\n",
    "An projectile will follow a parabolic path, and you can write down height as a function of time via \n",
    "$$y(t) = m_1 + m_2 t + \\frac{1}{2} m_3 t^2.$$\n",
    "Here, the parameters $m_1,m_2,m_3$ are the model parameters. The data collected will be a sequence pairs of time samples and heights, $(t_i,y_i), as measured while the object falls. \n",
    "\n",
    "This can be put into matrix form\n",
    "$$\n",
    "\\left[\n",
    "\\begin{array}{ccc}\n",
    "1 & t_1 & -\\frac{1}{2} t_1^2 \\\\\n",
    "1 & t_2 & -\\frac{1}{2} t_2^2 \\\\\n",
    "1 & t_3 & -\\frac{1}{2} t_3^2 \\\\\n",
    "\\vdots & \\vdots & \\vdots \\\\\n",
    "1 & t_1 & -\\frac{1}{2} t_1^2 \\\\\n",
    "\\end{array}\n",
    "\\right]\n",
    "\\left[\n",
    "\\begin{array}{c}\n",
    "m_1 \\\\\n",
    "m_2 \\\\\n",
    "m_3\n",
    "\\end{array}\n",
    "\\right]\n",
    "=\n",
    "\\left[\n",
    "\\begin{array}{c}\n",
    "y_1 \\\\\n",
    "y_2 \\\\\n",
    "y_3 \\\\\n",
    "\\vdots \\\\\n",
    "y_n\n",
    "\\end{array}\n",
    "\\right].\n",
    "$$\n",
    "\n",
    "This is a linear system, and we can write as $G \\mathbf{m} = \\mathbf{y}$. The $y$ are the data, and the $m$ are model parameters we wish to estimate. ($m_3$ will be acceleration due to gravity, the one we are really interested in.)\n",
    "\n",
    "This linear system is over-determined, so in general we cannot expect an exact solution. We could, however, choose the best fitting parameters.\n",
    "\n",
    "### Least squares:\n",
    "\n",
    "Minimize$_m$ $|| \\mathbf{y} - G\\mathbf{m} ||_2$,\n",
    "where this el-2 norm is given as \n",
    "$$ || \\mathbf{y} - G\\mathbf{m} ||_2 = \\sqrt{\\sum_{i=1}^n |y_i - (G\\mathbf{m})_i|^2} ,$$\n",
    "which is the usual Euclidean distance, or norm.\n",
    "\n",
    "You may have seen this before in Linear Algebra or a Statistics course. The Least Square Minimum is found via the **normal equation** with solution\n",
    "$$\\hat{\\mathbf{m}} = (G^TG)^{-1} G^T \\mathbf{y}.$$\n",
    "Here, $G^T$ means the transpose of the matrix $G$. In our example above with the falling object, the matrix $G^TG$ is a 3 x 3 matrix, so easy to invert.\n",
    "\n",
    "### L1 minimization\n",
    "\n",
    "Minimize$_m$ $|| \\mathbf{y} - G\\mathbf{m} ||_1$,\n",
    "where this el-1 norm is given as \n",
    "$$ || \\mathbf{y} - G\\mathbf{m} ||_1 = \\sum_{i=1}^n |y_i - (G\\mathbf{m})_i| ,$$\n",
    "which is the usual Euclidean distance, or norm.\n",
    "\n",
    "It turns out the L1 minimization is more robust, and does a good job of ignoring outliers. It is good with noise that is not Gaussian, but has **fat tails.**\n",
    "\n",
    "However, there is nothing like the normal equations to solve this. You need to use an numerical algorithm to minimize this. This we why we learned about minimization techniques in the last few lectures.\n",
    "\n",
    "## Well-posedness of an inverse problem\n",
    "- does a solution exist?\n",
    "- is the solution unique?\n",
    "- is the solution stable with respect to small changes in the data? (e.g. like noise)\n",
    "\n",
    "If we have these 3 properties, we say the problem is **well-posed.** If not, it is ill-posed. In that case, we have to reformulate the problem into something that is well-posed. This could mean adding regularization, or adding more information to the problem, to make it well posed.\n",
    "\n",
    "## Next time.\n",
    "\n",
    "In the next lecture, we will talk about singular value decomposition, and how we can use it to stablizer difficult inverse problems.\n",
    "\n",
    "We will look at examples as well.\n",
    "\n",
    "\n",
    "\n",
    "\n",
    "\n",
    "\n"
   ]
  },
  {
   "cell_type": "markdown",
   "metadata": {},
   "source": [
    "## The falling object problem.\n",
    "\n",
    "Let's see if we can do some simple minimization to find a solution to the falling object problem.\n",
    "\n",
    "We define a function $f$ to describe the parabola of the falling object."
   ]
  },
  {
   "cell_type": "code",
   "execution_count": 97,
   "metadata": {},
   "outputs": [
    {
     "data": {
      "image/png": "[encoded data removed]",
      "text/plain": [
       "<Figure size 432x288 with 1 Axes>"
      ]
     },
     "metadata": {
      "needs_background": "light"
     },
     "output_type": "display_data"
    }
   ],
   "source": [
    "def f(t,m):\n",
    "    return m[0] + m[1]*t + 0.5*m[2]*t**2\n",
    "\n",
    "t = linspace(0,1)\n",
    "\n",
    "m = [1,4,-9.8]\n",
    "plot(t,f(t,m));\n",
    "\n"
   ]
  },
  {
   "cell_type": "markdown",
   "metadata": {},
   "source": [
    "Now we create a model and some data, to get the matrix G"
   ]
  },
  {
   "cell_type": "code",
   "execution_count": 98,
   "metadata": {},
   "outputs": [
    {
     "data": {
      "text/plain": [
       "array([[1.        , 0.        , 0.        ],\n",
       "       [1.        , 0.11111111, 0.00617284],\n",
       "       [1.        , 0.22222222, 0.02469136],\n",
       "       [1.        , 0.33333333, 0.05555556],\n",
       "       [1.        , 0.44444444, 0.09876543],\n",
       "       [1.        , 0.55555556, 0.15432099],\n",
       "       [1.        , 0.66666667, 0.22222222],\n",
       "       [1.        , 0.77777778, 0.30246914],\n",
       "       [1.        , 0.88888889, 0.39506173],\n",
       "       [1.        , 1.        , 0.5       ]])"
      ]
     },
     "execution_count": 98,
     "metadata": {},
     "output_type": "execute_result"
    }
   ],
   "source": [
    "len = 10\n",
    "m_true = [1,4,-9.8]\n",
    "tk = linspace(0,1,len)\n",
    "y = f(tk,m_true)\n",
    "G = zeros((len,3))\n",
    "G[:,0] = ones(len)\n",
    "G[:,1] = tk\n",
    "G[:,2] = 0.5*tk**2\n",
    "G\n",
    "\n"
   ]
  },
  {
   "cell_type": "markdown",
   "metadata": {},
   "source": [
    "Now we solve using the normal equations."
   ]
  },
  {
   "cell_type": "code",
   "execution_count": 99,
   "metadata": {},
   "outputs": [
    {
     "data": {
      "text/plain": [
       "array([ 1. ,  4. , -9.8])"
      ]
     },
     "execution_count": 99,
     "metadata": {},
     "output_type": "execute_result"
    }
   ],
   "source": [
    "linalg.inv(transpose(G)@G)@transpose(G)@y"
   ]
  },
  {
   "cell_type": "markdown",
   "metadata": {},
   "source": [
    "Notice the solution is exact. But that is because we had no noise.\n",
    "\n",
    "## Better test\n",
    "\n",
    "We should try adding some noise to the data y. randn is normally distributed noise, added in below.\n",
    "\n"
   ]
  },
  {
   "cell_type": "code",
   "execution_count": 100,
   "metadata": {},
   "outputs": [
    {
     "data": {
      "text/plain": [
       "array([ 0.79207679,  3.62488394, -8.39771092])"
      ]
     },
     "execution_count": 100,
     "metadata": {},
     "output_type": "execute_result"
    }
   ],
   "source": [
    "m_best = linalg.inv(transpose(G)@G)@transpose(G)@(y + .2*randn(len))\n",
    "m_best"
   ]
  },
  {
   "cell_type": "code",
   "execution_count": 110,
   "metadata": {},
   "outputs": [
    {
     "data": {
      "image/png": "[encoded data removed]",
      "text/plain": [
       "<Figure size 432x288 with 1 Axes>"
      ]
     },
     "metadata": {
      "needs_background": "light"
     },
     "output_type": "display_data"
    }
   ],
   "source": [
    "plot(t,f(t,m_true),tk,f(tk,m_best),'o');"
   ]
  },
  {
   "cell_type": "code",
   "execution_count": 107,
   "metadata": {},
   "outputs": [
    {
     "name": "stdout",
     "output_type": "stream",
     "text": [
      "Warning: Desired error not necessarily achieved due to precision loss.\n",
      "         Current function value: 0.086968\n",
      "         Iterations: 5\n",
      "         Function evaluations: 342\n",
      "         Gradient evaluations: 68\n"
     ]
    },
    {
     "data": {
      "text/plain": [
       "array([ 1.02072861,  3.88242558, -9.56619713])"
      ]
     },
     "execution_count": 107,
     "metadata": {},
     "output_type": "execute_result"
    }
   ],
   "source": [
    "from scipy.optimize import fmin_cg,fmin_bfgs\n",
    "\n",
    "len = 10\n",
    "m_true = [1,4,-9.8]\n",
    "tk = linspace(0,1,len)\n",
    "y = f(tk,m_true) +0*randn(len)\n",
    "G = zeros((len,3))\n",
    "G[:,0] = ones(len)\n",
    "G[:,1] = tk\n",
    "G[:,2] = 0.5*tk**2\n",
    "\n",
    "\n",
    "def fnorm1(m):\n",
    "    return sum(abs(y - G@m))\n",
    "\n",
    "m_best2 = fmin_cg(fnorm1, [1,4,-9.5])\n",
    "m_best2"
   ]
  },
  {
   "cell_type": "code",
   "execution_count": 116,
   "metadata": {},
   "outputs": [
    {
     "name": "stdout",
     "output_type": "stream",
     "text": [
      "Warning: Desired error not necessarily achieved due to precision loss.\n",
      "         Current function value: 0.000000\n",
      "         Iterations: 36\n",
      "         Function evaluations: 637\n",
      "         Gradient evaluations: 126\n"
     ]
    },
    {
     "data": {
      "text/plain": [
       "array([ 0.99999999,  4.00000004, -9.80000011])"
      ]
     },
     "execution_count": 116,
     "metadata": {},
     "output_type": "execute_result"
    }
   ],
   "source": [
    "fmin_bfgs(fnorm1, [0,0,0])"
   ]
  },
  {
   "cell_type": "code",
   "execution_count": 115,
   "metadata": {},
   "outputs": [
    {
     "name": "stdout",
     "output_type": "stream",
     "text": [
      "Warning: Desired error not necessarily achieved due to precision loss.\n",
      "         Current function value: 0.000000\n",
      "         Iterations: 36\n",
      "         Function evaluations: 637\n",
      "         Gradient evaluations: 126\n"
     ]
    },
    {
     "data": {
      "image/png": "[encoded data removed]",
      "text/plain": [
       "<Figure size 432x288 with 1 Axes>"
      ]
     },
     "metadata": {
      "needs_background": "light"
     },
     "output_type": "display_data"
    }
   ],
   "source": [
    "m_best3 = fmin_bfgs(fnorm1, [0,0,0])\n",
    "plot(t,f(t,m_true),tk,f(tk,m_best3),'o');"
   ]
  },
  {
   "cell_type": "markdown",
   "metadata": {},
   "source": [
    "## Wow!  Pretty good. Better check I did this right!!"
   ]
  },
  {
   "cell_type": "code",
   "execution_count": null,
   "metadata": {},
   "outputs": [],
   "source": []
  }
 ],
 "metadata": {
  "kernelspec": {
   "display_name": "Python 3",
   "language": "python",
   "name": "python3"
  },
  "language_info": {
   "codemirror_mode": {
    "name": "ipython",
    "version": 3
   },
   "file_extension": ".py",
   "mimetype": "text/x-python",
   "name": "python",
   "nbconvert_exporter": "python",
   "pygments_lexer": "ipython3",
   "version": "3.6.7"
  }
 },
 "nbformat": 4,
 "nbformat_minor": 2
}
