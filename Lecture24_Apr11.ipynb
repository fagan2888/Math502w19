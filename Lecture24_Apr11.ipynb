{
 "cells": [
  {
   "cell_type": "markdown",
   "metadata": {},
   "source": [
    "# AMAT502:  Lecture 24. More on inverse problems. \n",
    "\n",
    "April 11, 2019.\n",
    "\n",
    "Michael Lamoureux"
   ]
  },
  {
   "cell_type": "code",
   "execution_count": 1,
   "metadata": {},
   "outputs": [],
   "source": [
    "## Some startup commands\n",
    "\n",
    "%matplotlib inline\n",
    "from numpy import * \n",
    "from scipy import *\n",
    "from math import tau\n",
    "from matplotlib.pyplot import *\n",
    "\n",
    "from mpl_toolkits.mplot3d import Axes3D\n",
    "from matplotlib.pyplot import *\n",
    "from matplotlib import cm\n"
   ]
  },
  {
   "cell_type": "markdown",
   "metadata": {},
   "source": [
    "## Inverse Problems\n",
    "\n",
    "Basic idea. Measure some data, deduce something about something \"hidden.\"\n",
    "\n",
    "#### Examples.\n",
    "\n",
    "1. Record positions and times of a falling object. Use this to determine acceleration due to gravity. (Can do this to an accuracy of 1 part in a billion.)\n",
    "\n",
    "2. Record electrical conductivity of an object: human body, a lump of dirt, the ground near the surface of the earth that has been contaminated with an oil spill or something. Use this to create an image (of what's inside the human body, or what's in the dirt.)\n",
    "\n",
    "3. Record adsorbtion of X-rays going through the human body (CT scan) or through some material like a wall or a bridge (non-destructive testing). Create an image of what is inside, without having to cut anything open.\n",
    "\n",
    "#### Basic set up\n",
    "\n",
    "Model m = some physical parameters of some system\n",
    "\n",
    "Data d = data from some measurements\n",
    "\n",
    "We assume the physics is understood well enough that we can describe the process of going from model m to data d. THis gives an operator G with\n",
    "$$d = G(m).$$\n",
    "In real life, there is always noise in the data, so we might write\n",
    "$$d = G(m_{true}) + \\eta \\,(noise).$$\n",
    "\n",
    "1. Given m, can we find d? (This is the **Forward Problem.**)\n",
    "2. Given d, can we find m? (This is the **Inverse Problem.**)\n",
    "3. Given m and d, can we find G? (This is the **Systems Identification Problem.**)\n",
    "\n",
    "Today we are mainly interested in **Inverse Problems.**\n",
    "\n",
    "\n",
    "## Categories of inverse problems\n",
    "\n",
    "1. Discrete problems. Data d and model m are finite vectors. If number of components in m is small, it is called a **parameter estimation problem.**\n",
    "\n",
    "2. Continuous problems. When m,d are functions of space and time. For instance, our model might be the density of the earth (or of the human body). The model $m = m(x,y,z)$ is a function of space, not just a vector. \n",
    "\n",
    "The process of going from continuous to a discrete approximation is an important option in solving these problems.\n",
    "\n",
    "3. Linear systems. When the operator $G$ is linear.\n",
    " - $G(m_1 + m_2) = G(m_1) + G(m_2).$\n",
    " - $G(\\alpha m) = \\alpha G(m).$\n",
    " \n",
    " \n",
    "### Linear examples\n",
    "\n",
    "1. Kernel operators\n",
    "$$d(x) = \\int_a^b g(x,y)m(y) dy.$$\n",
    "\n",
    "2. Convolution operators\n",
    "$$d(x) = \\int_{-\\infty}^\\infty g(x-y)m(y) dy.$$\n",
    "Leads to a deconvolution problem. Important in seismic imaging, radar imaging, and more\n",
    "\n",
    "3. Fourier transforms\n",
    "$$F(f)(\\omega) = \\int_{-\\infty}^\\infty f(x)e^{2\\pi i x\\omega}  dx.$$\n",
    "In the FT case, you often have only partial information, still want to recover the function $f(x)$ as best you can. \n",
    "\n",
    "These examples come up in medical imaging, geophysical imaging, non-destructive testing. All kinds of mathematical modelling problems."
   ]
  },
  {
   "cell_type": "markdown",
   "metadata": {},
   "source": [
    "## Real example. Falling object\n",
    "\n",
    "An projectile will follow a parabolic path, and you can write down height as a function of time via \n",
    "$$y(t) = m_1 + m_2 t + \\frac{1}{2} m_3 t^2.$$\n",
    "Here, the parameters $m_1,m_2,m_3$ are the model parameters. The data collected will be a sequence pairs of time samples and heights, $(t_i,y_i), as measured while the object falls. \n",
    "\n",
    "This can be put into matrix form\n",
    "$$\n",
    "\\left[\n",
    "\\begin{array}{ccc}\n",
    "1 & t_1 & -\\frac{1}{2} t_1^2 \\\\\n",
    "1 & t_2 & -\\frac{1}{2} t_2^2 \\\\\n",
    "1 & t_3 & -\\frac{1}{2} t_3^2 \\\\\n",
    "\\vdots & \\vdots & \\vdots \\\\\n",
    "1 & t_1 & -\\frac{1}{2} t_1^2 \\\\\n",
    "\\end{array}\n",
    "\\right]\n",
    "\\left[\n",
    "\\begin{array}{c}\n",
    "m_1 \\\\\n",
    "m_2 \\\\\n",
    "m_3\n",
    "\\end{array}\n",
    "\\right]\n",
    "=\n",
    "\\left[\n",
    "\\begin{array}{c}\n",
    "y_1 \\\\\n",
    "y_2 \\\\\n",
    "y_3 \\\\\n",
    "\\vdots \\\\\n",
    "y_n\n",
    "\\end{array}\n",
    "\\right].\n",
    "$$\n",
    "\n",
    "This is a linear system, and we can write as $G \\mathbf{m} = \\mathbf{y}$. The $y$ are the data, and the $m$ are model parameters we wish to estimate. ($m_3$ will be acceleration due to gravity, the one we are really interested in.)\n",
    "\n",
    "This linear system is over-determined, so in general we cannot expect an exact solution. We could, however, choose the best fitting parameters.\n",
    "\n",
    "### Least squares:\n",
    "\n",
    "Minimize$_m$ $|| \\mathbf{y} - G\\mathbf{m} ||_2$,\n",
    "where this el-2 norm is given as \n",
    "$$ || \\mathbf{y} - G\\mathbf{m} ||_2 = \\sqrt{\\sum_{i=1}^n |y_i - (G\\mathbf{m})_i|^2} ,$$\n",
    "which is the usual Euclidean distance, or norm.\n",
    "\n",
    "You may have seen this before in Linear Algebra or a Statistics course. The Least Square Minimum is found via the **normal equation** with solution\n",
    "$$\\hat{\\mathbf{m}} = (G^TG)^{-1} G^T \\mathbf{y}.$$\n",
    "Here, $G^T$ means the transpose of the matrix $G$. In our example above with the falling object, the matrix $G^TG$ is a 3 x 3 matrix, so easy to invert.\n",
    "\n",
    "### L1 minimization\n",
    "\n",
    "Minimize$_m$ $|| \\mathbf{y} - G\\mathbf{m} ||_1$,\n",
    "where this el-1 norm is given as \n",
    "$$ || \\mathbf{y} - G\\mathbf{m} ||_1 = \\sum_{i=1}^n |y_i - (G\\mathbf{m})_i| ,$$\n",
    "which is the usual Euclidean distance, or norm.\n",
    "\n",
    "It turns out the L1 minimization is more robust, and does a good job of ignoring outliers. It is good with noise that is not Gaussian, but has **fat tails.**\n",
    "\n",
    "However, there is nothing like the normal equations to solve this. You need to use an numerical algorithm to minimize this. This we why we learned about minimization techniques in the last few lectures.\n",
    "\n",
    "Sometimes this stuff comes up in the context of **LASSO** (least absolute shrinkage and selection operator), **compressed sensing,** and **sparse sampling.** \n",
    "\n",
    "\n",
    "## Well-posedness of an inverse problem\n",
    "- does a solution exist?\n",
    "- is the solution unique?\n",
    "- is the solution stable with respect to small changes in the data? (e.g. like noise)\n",
    "\n",
    "If we have these 3 properties, we say the problem is **well-posed.** If not, it is ill-posed. In that case, we have to reformulate the problem into something that is well-posed. This could mean adding regularization, or adding more information to the problem, to make it well posed.\n",
    "\n",
    "\n",
    "\n",
    "\n",
    "\n",
    "\n"
   ]
  },
  {
   "cell_type": "markdown",
   "metadata": {},
   "source": [
    "## The falling object problem.\n",
    "\n",
    "Let's see if we can do some simple minimization to find a solution to the falling object problem.\n",
    "\n",
    "We define a function $f$ to describe the parabola of the falling object."
   ]
  },
  {
   "cell_type": "code",
   "execution_count": 2,
   "metadata": {},
   "outputs": [
    {
     "data": {
      "image/png": "[encoded data removed]",
      "text/plain": [
       "<Figure size 432x288 with 1 Axes>"
      ]
     },
     "metadata": {
      "needs_background": "light"
     },
     "output_type": "display_data"
    }
   ],
   "source": [
    "def f(t,m):\n",
    "    return m[0] + m[1]*t + 0.5*m[2]*t**2\n",
    "\n",
    "t = linspace(0,1)\n",
    "\n",
    "m = [1,4,-9.8]\n",
    "plot(t,f(t,m));\n",
    "\n"
   ]
  },
  {
   "cell_type": "markdown",
   "metadata": {},
   "source": [
    "Now we create a model and some data, to get the matrix G"
   ]
  },
  {
   "cell_type": "code",
   "execution_count": 3,
   "metadata": {},
   "outputs": [
    {
     "data": {
      "text/plain": [
       "array([[1.        , 0.        , 0.        ],\n",
       "       [1.        , 0.11111111, 0.00617284],\n",
       "       [1.        , 0.22222222, 0.02469136],\n",
       "       [1.        , 0.33333333, 0.05555556],\n",
       "       [1.        , 0.44444444, 0.09876543],\n",
       "       [1.        , 0.55555556, 0.15432099],\n",
       "       [1.        , 0.66666667, 0.22222222],\n",
       "       [1.        , 0.77777778, 0.30246914],\n",
       "       [1.        , 0.88888889, 0.39506173],\n",
       "       [1.        , 1.        , 0.5       ]])"
      ]
     },
     "execution_count": 3,
     "metadata": {},
     "output_type": "execute_result"
    }
   ],
   "source": [
    "len = 10\n",
    "m_true = [1,4,-9.8]\n",
    "tk = linspace(0,1,len)\n",
    "y = f(tk,m_true)\n",
    "G = zeros((len,3))\n",
    "G[:,0] = ones(len)\n",
    "G[:,1] = tk\n",
    "G[:,2] = 0.5*tk**2\n",
    "G\n",
    "\n"
   ]
  },
  {
   "cell_type": "markdown",
   "metadata": {},
   "source": [
    "Now we solve using the normal equations."
   ]
  },
  {
   "cell_type": "code",
   "execution_count": 4,
   "metadata": {},
   "outputs": [
    {
     "data": {
      "text/plain": [
       "array([ 1. ,  4. , -9.8])"
      ]
     },
     "execution_count": 4,
     "metadata": {},
     "output_type": "execute_result"
    }
   ],
   "source": [
    "linalg.inv(transpose(G)@G)@transpose(G)@y"
   ]
  },
  {
   "cell_type": "markdown",
   "metadata": {},
   "source": [
    "Notice the solution is exact. But that is because we had no noise.\n",
    "\n",
    "## Better test\n",
    "\n",
    "We should try adding some noise to the data y. The function randn is normally distributed noise, added in below.\n",
    "\n"
   ]
  },
  {
   "cell_type": "code",
   "execution_count": 40,
   "metadata": {},
   "outputs": [
    {
     "data": {
      "text/plain": [
       "array([ 1.03746388,  3.67341435, -9.11132293])"
      ]
     },
     "execution_count": 40,
     "metadata": {},
     "output_type": "execute_result"
    }
   ],
   "source": [
    "y = f(tk,m_true) + .2*randn(len)\n",
    "m_best = linalg.inv(transpose(G)@G)@transpose(G)@(y )\n",
    "m_best"
   ]
  },
  {
   "cell_type": "code",
   "execution_count": 41,
   "metadata": {},
   "outputs": [
    {
     "data": {
      "image/png": "[encoded data removed]",
      "text/plain": [
       "<Figure size 432x288 with 1 Axes>"
      ]
     },
     "metadata": {
      "needs_background": "light"
     },
     "output_type": "display_data"
    }
   ],
   "source": [
    "plot(tk,y,'o',t,f(t,m_best));"
   ]
  },
  {
   "cell_type": "markdown",
   "metadata": {},
   "source": [
    "## L1 minimization\n",
    "\n",
    "Let's do the L1 minimation, see how that works.\n"
   ]
  },
  {
   "cell_type": "code",
   "execution_count": 44,
   "metadata": {},
   "outputs": [
    {
     "name": "stdout",
     "output_type": "stream",
     "text": [
      "Warning: Desired error not necessarily achieved due to precision loss.\n",
      "         Current function value: 0.086968\n",
      "         Iterations: 5\n",
      "         Function evaluations: 342\n",
      "         Gradient evaluations: 68\n"
     ]
    },
    {
     "data": {
      "text/plain": [
       "array([ 1.02072861,  3.88242558, -9.56619713])"
      ]
     },
     "execution_count": 44,
     "metadata": {},
     "output_type": "execute_result"
    }
   ],
   "source": [
    "from scipy.optimize import fmin_cg,fmin_bfgs\n",
    "\n",
    "len = 10\n",
    "m_true = [1,4,-9.8]\n",
    "tk = linspace(0,1,len)\n",
    "y = f(tk,m_true) +0*randn(len)\n",
    "G = zeros((len,3))\n",
    "G[:,0] = ones(len)\n",
    "G[:,1] = tk\n",
    "G[:,2] = 0.5*tk**2\n",
    "\n",
    "\n",
    "def fnorm1(m):\n",
    "    return sum(abs(y - G@m))\n",
    "\n",
    "m_best2 = fmin_cg(fnorm1, [1,4,-9.5])\n",
    "m_best2"
   ]
  },
  {
   "cell_type": "code",
   "execution_count": 45,
   "metadata": {},
   "outputs": [
    {
     "data": {
      "image/png": "[encoded data removed]",
      "text/plain": [
       "<Figure size 432x288 with 1 Axes>"
      ]
     },
     "metadata": {
      "needs_background": "light"
     },
     "output_type": "display_data"
    }
   ],
   "source": [
    "plot(tk,y,'o',t,f(t,m_best2));"
   ]
  },
  {
   "cell_type": "markdown",
   "metadata": {},
   "source": [
    "## Yikes.\n",
    "\n",
    "Even with perfect data, the conjugate gradient method does not find a good solution. Although the fit looks good. \n",
    "\n",
    "Let's try **bfgs** optimization instead."
   ]
  },
  {
   "cell_type": "code",
   "execution_count": 48,
   "metadata": {},
   "outputs": [
    {
     "name": "stdout",
     "output_type": "stream",
     "text": [
      "Warning: Desired error not necessarily achieved due to precision loss.\n",
      "         Current function value: 0.000000\n",
      "         Iterations: 36\n",
      "         Function evaluations: 637\n",
      "         Gradient evaluations: 126\n"
     ]
    },
    {
     "data": {
      "text/plain": [
       "array([ 0.99999999,  4.00000004, -9.80000011])"
      ]
     },
     "execution_count": 48,
     "metadata": {},
     "output_type": "execute_result"
    }
   ],
   "source": [
    "len = 10\n",
    "m_true = [1,4,-9.8]\n",
    "tk = linspace(0,1,len)\n",
    "y = f(tk,m_true) +0*randn(len)\n",
    "G = zeros((len,3))\n",
    "G[:,0] = ones(len)\n",
    "G[:,1] = tk\n",
    "G[:,2] = 0.5*tk**2\n",
    "\n",
    "\n",
    "fmin_bfgs(fnorm1, [0,0,0])\n"
   ]
  },
  {
   "cell_type": "markdown",
   "metadata": {},
   "source": [
    "## Wow!\n",
    "\n",
    "Looks good. Let's see if it can handle noise. "
   ]
  },
  {
   "cell_type": "code",
   "execution_count": 49,
   "metadata": {},
   "outputs": [
    {
     "name": "stdout",
     "output_type": "stream",
     "text": [
      "Warning: Desired error not necessarily achieved due to precision loss.\n",
      "         Current function value: 1.381190\n",
      "         Iterations: 26\n",
      "         Function evaluations: 862\n",
      "         Gradient evaluations: 170\n"
     ]
    },
    {
     "data": {
      "text/plain": [
       "array([ 1.26623269,  2.98139929, -7.84484204])"
      ]
     },
     "execution_count": 49,
     "metadata": {},
     "output_type": "execute_result"
    }
   ],
   "source": [
    "len = 10\n",
    "m_true = [1,4,-9.8]\n",
    "tk = linspace(0,1,len)\n",
    "y = f(tk,m_true) +.2*randn(len)\n",
    "G = zeros((len,3))\n",
    "G[:,0] = ones(len)\n",
    "G[:,1] = tk\n",
    "G[:,2] = 0.5*tk**2\n",
    "\n",
    "m_best3 = fmin_bfgs(fnorm1, [0,0,0])\n",
    "m_best3"
   ]
  },
  {
   "cell_type": "code",
   "execution_count": 51,
   "metadata": {},
   "outputs": [
    {
     "data": {
      "image/png": "[encoded data removed]",
      "text/plain": [
       "<Figure size 432x288 with 1 Axes>"
      ]
     },
     "metadata": {
      "needs_background": "light"
     },
     "output_type": "display_data"
    }
   ],
   "source": [
    "plot(tk,y,'o',t,f(t,m_best3));"
   ]
  },
  {
   "cell_type": "code",
   "execution_count": 59,
   "metadata": {},
   "outputs": [
    {
     "name": "stdout",
     "output_type": "stream",
     "text": [
      "Warning: Desired error not necessarily achieved due to precision loss.\n",
      "         Current function value: 2.433059\n",
      "         Iterations: 13\n",
      "         Function evaluations: 794\n",
      "         Gradient evaluations: 157\n"
     ]
    },
    {
     "data": {
      "image/png": "[encoded data removed]",
      "text/plain": [
       "<Figure size 432x288 with 1 Axes>"
      ]
     },
     "metadata": {
      "needs_background": "light"
     },
     "output_type": "display_data"
    }
   ],
   "source": [
    "## Okay, let's compare L2 and L1 minimization\n",
    "\n",
    "\n",
    "len = 10\n",
    "m_true = [1,4,-9.8]\n",
    "tk = linspace(0,1,len)\n",
    "y = f(tk,m_true) +.3*randn(len)\n",
    "G = zeros((len,3))\n",
    "G[:,0] = ones(len)\n",
    "G[:,1] = tk\n",
    "G[:,2] = 0.5*tk**2\n",
    "\n",
    "m_L2 = linalg.inv(transpose(G)@G)@transpose(G)@y\n",
    "m_L1 = fmin_bfgs(fnorm1, [0,0,0])\n",
    "\n",
    "plot(tk,y,'ok',t,f(t,m_L2),'-r',t,f(t,m_L1),'-b');"
   ]
  },
  {
   "cell_type": "markdown",
   "metadata": {},
   "source": [
    "## Blue looks better?\n",
    "\n",
    "That is the L1 minimization\n",
    "\n",
    "Let's try one outlier."
   ]
  },
  {
   "cell_type": "code",
   "execution_count": 60,
   "metadata": {},
   "outputs": [
    {
     "name": "stdout",
     "output_type": "stream",
     "text": [
      "Warning: Desired error not necessarily achieved due to precision loss.\n",
      "         Current function value: 0.500000\n",
      "         Iterations: 34\n",
      "         Function evaluations: 832\n",
      "         Gradient evaluations: 164\n"
     ]
    },
    {
     "data": {
      "image/png": "[encoded data removed]",
      "text/plain": [
       "<Figure size 432x288 with 1 Axes>"
      ]
     },
     "metadata": {
      "needs_background": "light"
     },
     "output_type": "display_data"
    }
   ],
   "source": [
    "len = 10\n",
    "m_true = [1,4,-9.8]\n",
    "tk = linspace(0,1,len)\n",
    "y = f(tk,m_true) \n",
    "G = zeros((len,3))\n",
    "G[:,0] = ones(len)\n",
    "G[:,1] = tk\n",
    "G[:,2] = 0.5*tk**2\n",
    "\n",
    "y[1] += 0.5\n",
    "\n",
    "m_L2 = linalg.inv(transpose(G)@G)@transpose(G)@y\n",
    "m_L1 = fmin_bfgs(fnorm1, [0,0,0])\n",
    "\n",
    "plot(tk,y,'ok',t,f(t,m_L2),'-r',t,f(t,m_L1),'-b');"
   ]
  },
  {
   "cell_type": "markdown",
   "metadata": {},
   "source": [
    "## Cool.\n",
    "\n",
    "The L1 minimizer totaly ignored the outlier."
   ]
  },
  {
   "cell_type": "markdown",
   "metadata": {},
   "source": [
    "##  Normal equations\n",
    "\n",
    "We said, without much comment, that to minimize the L2 norm $$|| y - Gm ||_2,$$ we just solve the **normal** equations.\n",
    "\n",
    "YOu might recall seeing this in calculus or linear algerba. Let's review, just because now we really want to use this.\n",
    "\n",
    "The point is, to minimize the L2 norm, is the same thing as minimizing its square, which is the function\n",
    "$$F(m) = || y - Gm ||_2^2,$$\n",
    "as a function of m. To minimize a function, we just have to set its gradient to zero. \n",
    "\n",
    "Now, from calculus we could compute the gradient directly. But it is easier to think of finding the gradient as the linear approximation to the function $F(m+\\delta m)$ as a function of $\\delta m$. Since this is all just linear algebra, this is easy. \n",
    "\n",
    "We write\n",
    "\n",
    "$$F(m+\\delta m)  = (y - G(m+\\delta m))^T(y - G(m+\\delta m)) = y^Ty -(G(m+\\delta m))^Ty - y^TG(m + \\delta m) + (G(m+\\delta m)^TG(m + \\delta m).$$\n",
    "We pick out the terms that are linear in $\\delta m$ and this is the gradient\n",
    "$$\\nabla F(m) = -(G\\delta m)^Ty - y^TG\\delta m + (G\\delta m)^T Gm + (Gm)^T G\\delta m.$$\n",
    "\n",
    "Pulling through the transposes, this simplifies to\n",
    "$$\\delta m \\cdot \\nabla F(m) = -2\\delta m^T G^T y  - 2\\delta m^TG^TGm .$$\n",
    "\n",
    "So we solve\n",
    "$$0 = \\nabla F(m) = -2(G^T y  - G^TGm),$$\n",
    "which gives us\n",
    "$$G^T y  = G^TGm.$$\n",
    "Multiply by the inverse of $G^TG$ to get \n",
    "$$ (G^TG)^{-1}G^T y = m,$$\n",
    "which are the normal equations."
   ]
  },
  {
   "cell_type": "markdown",
   "metadata": {},
   "source": [
    "## Singular value decomposition\n",
    "\n",
    "Point is, how to invert matrices that are ill-conditioned.\n",
    "\n",
    "$G$ and m by n matrix, write it as \n",
    "$$G = USV^T$,\n",
    "\n",
    "where $S$ is a diagonal matrix of size m by n, and $U$, $V$ are orthogonal matrices of the appropriate size. \n",
    "\n",
    "Can always choose the entries in $S$ to be non-negative, and usually we order them as\n",
    "$$s_1 \\geq s_2 \\geq s_3 \\geq \\ldots \\geq 0.$$\n",
    "\n"
   ]
  },
  {
   "cell_type": "code",
   "execution_count": 62,
   "metadata": {},
   "outputs": [],
   "source": [
    "a = rand(10,10)"
   ]
  },
  {
   "cell_type": "code",
   "execution_count": 63,
   "metadata": {},
   "outputs": [],
   "source": [
    "u, s, vh = np.linalg.svd(a, full_matrices=True)"
   ]
  },
  {
   "cell_type": "code",
   "execution_count": 64,
   "metadata": {},
   "outputs": [
    {
     "data": {
      "text/plain": [
       "array([[-0.30172601,  0.34512126,  0.4066143 , -0.1384007 ,  0.66836758,\n",
       "        -0.22141188, -0.16009485,  0.25481458, -0.13420602, -0.0324386 ],\n",
       "       [-0.19993316, -0.17514074, -0.2765246 ,  0.4226671 ,  0.20618546,\n",
       "         0.33543039,  0.01690251,  0.10810472, -0.67262709,  0.23412307],\n",
       "       [-0.26153184, -0.18895382,  0.46673211,  0.17356312, -0.27096774,\n",
       "        -0.19100935, -0.3363677 , -0.55029347, -0.29579869, -0.18591247],\n",
       "       [-0.30786069,  0.27169062,  0.15795556,  0.45658621, -0.06264525,\n",
       "        -0.13690242,  0.43084795, -0.1921942 ,  0.31126691,  0.50582874],\n",
       "       [-0.35816259, -0.05428667,  0.41208832, -0.29305343, -0.38392826,\n",
       "         0.55305993,  0.0058995 ,  0.36478148,  0.03914229,  0.1586404 ],\n",
       "       [-0.29985205,  0.51455029, -0.20069673,  0.10317059, -0.2002659 ,\n",
       "         0.12145409,  0.29601505, -0.00735537, -0.1221593 , -0.66101738],\n",
       "       [-0.34646399, -0.50278156, -0.05524215, -0.13898114,  0.43826189,\n",
       "         0.2566193 ,  0.30247988, -0.32434731,  0.30294301, -0.24168013],\n",
       "       [-0.37050235, -0.39718069, -0.15399108, -0.08717789, -0.22377264,\n",
       "        -0.62431221,  0.21536859,  0.41872743, -0.10063201, -0.04448884],\n",
       "       [-0.35707697,  0.2492315 , -0.44872004, -0.54612985, -0.06095915,\n",
       "        -0.05626373, -0.19437792, -0.36265047, -0.1050233 ,  0.35151465],\n",
       "       [-0.32063391, -0.01818051, -0.27784809,  0.37670227, -0.00730483,\n",
       "         0.06184813, -0.6418649 ,  0.19609326,  0.46453354, -0.08744209]])"
      ]
     },
     "execution_count": 64,
     "metadata": {},
     "output_type": "execute_result"
    }
   ],
   "source": [
    "u"
   ]
  },
  {
   "cell_type": "code",
   "execution_count": 69,
   "metadata": {},
   "outputs": [
    {
     "data": {
      "text/plain": [
       "array([4.92928058, 1.34716428, 1.12712525, 0.89419212, 0.74518491,\n",
       "       0.62952683, 0.587619  , 0.3198334 , 0.18984175, 0.03606555])"
      ]
     },
     "execution_count": 69,
     "metadata": {},
     "output_type": "execute_result"
    }
   ],
   "source": [
    "s"
   ]
  },
  {
   "cell_type": "markdown",
   "metadata": {},
   "source": [
    "## Geophysics model\n",
    "\n",
    "Add detail here. Instrument response is like this:\n",
    "\n",
    "$$g(t) = t*exp(-t/T_0).$$\n",
    "\n",
    "True data is some function $m(t)$. Measured response is the convolution\n",
    "\n",
    "$$v(t) = \\int_{-\\infty}^\\infty g(t-\\tau)m_{true}(\\tau) d\\tau.$$\n",
    "\n",
    "We discretize this to a matrix form by sampling in time\n",
    "\n",
    "$$ \\mathbf{d} = \\mathbf{Gm}.$$"
   ]
  },
  {
   "cell_type": "code",
   "execution_count": 102,
   "metadata": {},
   "outputs": [
    {
     "data": {
      "image/png": "[encoded data removed]",
      "text/plain": [
       "<Figure size 432x288 with 1 Axes>"
      ]
     },
     "metadata": {
      "needs_background": "light"
     },
     "output_type": "display_data"
    }
   ],
   "source": [
    "## Geophysics example\n",
    "\n",
    "t = linspace(-5,100,211)\n",
    "dt = t[1]-t[0]\n",
    "T0 = 10\n",
    "\n",
    "plot(t,maximum(0,t*exp(-t/T0)));"
   ]
  },
  {
   "cell_type": "code",
   "execution_count": 103,
   "metadata": {},
   "outputs": [],
   "source": [
    "G = zeros((211,211))\n",
    "for i in range(0,211):\n",
    "    for j in range(0,i):\n",
    "        G[i,j] = (t[i]-t[j])*exp(-(t[i]-t[j])/T0)*dt\n",
    "\n",
    "        "
   ]
  },
  {
   "cell_type": "code",
   "execution_count": 104,
   "metadata": {},
   "outputs": [
    {
     "data": {
      "image/png": "[encoded data removed]",
      "text/plain": [
       "<Figure size 432x288 with 1 Axes>"
      ]
     },
     "metadata": {
      "needs_background": "light"
     },
     "output_type": "display_data"
    }
   ],
   "source": [
    "imshow(G);"
   ]
  },
  {
   "cell_type": "code",
   "execution_count": 105,
   "metadata": {},
   "outputs": [
    {
     "data": {
      "image/png": "[encoded data removed]",
      "text/plain": [
       "<Figure size 432x288 with 1 Axes>"
      ]
     },
     "metadata": {
      "needs_background": "light"
     },
     "output_type": "display_data"
    }
   ],
   "source": [
    "sigma = 2\n",
    "m_true = exp(-(t-8)**2/(2*sigma**2)) + 0.5*exp(-(t-25)**2/(2*sigma**2))\n",
    "plot(t,m_true);"
   ]
  },
  {
   "cell_type": "code",
   "execution_count": 106,
   "metadata": {},
   "outputs": [
    {
     "data": {
      "text/plain": [
       "[<matplotlib.lines.Line2D at 0x10142009e8>]"
      ]
     },
     "execution_count": 106,
     "metadata": {},
     "output_type": "execute_result"
    },
    {
     "data": {
      "image/png": "[encoded data removed]",
      "text/plain": [
       "<Figure size 432x288 with 1 Axes>"
      ]
     },
     "metadata": {
      "needs_background": "light"
     },
     "output_type": "display_data"
    }
   ],
   "source": [
    "d = G@m_true\n",
    "plot(t,d)"
   ]
  },
  {
   "cell_type": "code",
   "execution_count": 108,
   "metadata": {},
   "outputs": [
    {
     "ename": "LinAlgError",
     "evalue": "Singular matrix",
     "output_type": "error",
     "traceback": [
      "\u001b[0;31m---------------------------------------------------------------------------\u001b[0m",
      "\u001b[0;31mLinAlgError\u001b[0m                               Traceback (most recent call last)",
      "\u001b[0;32m<ipython-input-108-374a089f87fc>\u001b[0m in \u001b[0;36m<module>\u001b[0;34m\u001b[0m\n\u001b[0;32m----> 1\u001b[0;31m \u001b[0mm\u001b[0m \u001b[0;34m=\u001b[0m \u001b[0mlinalg\u001b[0m\u001b[0;34m.\u001b[0m\u001b[0minv\u001b[0m\u001b[0;34m(\u001b[0m\u001b[0mG\u001b[0m\u001b[0;34m)\u001b[0m\u001b[0;34m@\u001b[0m\u001b[0md\u001b[0m\u001b[0;34m\u001b[0m\u001b[0;34m\u001b[0m\u001b[0m\n\u001b[0m\u001b[1;32m      2\u001b[0m \u001b[0mplot\u001b[0m\u001b[0;34m(\u001b[0m\u001b[0mt\u001b[0m\u001b[0;34m,\u001b[0m\u001b[0mm\u001b[0m\u001b[0;34m)\u001b[0m\u001b[0;34m\u001b[0m\u001b[0;34m\u001b[0m\u001b[0m\n",
      "\u001b[0;32m~/anaconda3/envs/JupyterFull/lib/python3.6/site-packages/numpy/linalg/linalg.py\u001b[0m in \u001b[0;36minv\u001b[0;34m(a)\u001b[0m\n\u001b[1;32m    530\u001b[0m     \u001b[0msignature\u001b[0m \u001b[0;34m=\u001b[0m \u001b[0;34m'D->D'\u001b[0m \u001b[0;32mif\u001b[0m \u001b[0misComplexType\u001b[0m\u001b[0;34m(\u001b[0m\u001b[0mt\u001b[0m\u001b[0;34m)\u001b[0m \u001b[0;32melse\u001b[0m \u001b[0;34m'd->d'\u001b[0m\u001b[0;34m\u001b[0m\u001b[0;34m\u001b[0m\u001b[0m\n\u001b[1;32m    531\u001b[0m     \u001b[0mextobj\u001b[0m \u001b[0;34m=\u001b[0m \u001b[0mget_linalg_error_extobj\u001b[0m\u001b[0;34m(\u001b[0m\u001b[0m_raise_linalgerror_singular\u001b[0m\u001b[0;34m)\u001b[0m\u001b[0;34m\u001b[0m\u001b[0;34m\u001b[0m\u001b[0m\n\u001b[0;32m--> 532\u001b[0;31m     \u001b[0mainv\u001b[0m \u001b[0;34m=\u001b[0m \u001b[0m_umath_linalg\u001b[0m\u001b[0;34m.\u001b[0m\u001b[0minv\u001b[0m\u001b[0;34m(\u001b[0m\u001b[0ma\u001b[0m\u001b[0;34m,\u001b[0m \u001b[0msignature\u001b[0m\u001b[0;34m=\u001b[0m\u001b[0msignature\u001b[0m\u001b[0;34m,\u001b[0m \u001b[0mextobj\u001b[0m\u001b[0;34m=\u001b[0m\u001b[0mextobj\u001b[0m\u001b[0;34m)\u001b[0m\u001b[0;34m\u001b[0m\u001b[0;34m\u001b[0m\u001b[0m\n\u001b[0m\u001b[1;32m    533\u001b[0m     \u001b[0;32mreturn\u001b[0m \u001b[0mwrap\u001b[0m\u001b[0;34m(\u001b[0m\u001b[0mainv\u001b[0m\u001b[0;34m.\u001b[0m\u001b[0mastype\u001b[0m\u001b[0;34m(\u001b[0m\u001b[0mresult_t\u001b[0m\u001b[0;34m,\u001b[0m \u001b[0mcopy\u001b[0m\u001b[0;34m=\u001b[0m\u001b[0;32mFalse\u001b[0m\u001b[0;34m)\u001b[0m\u001b[0;34m)\u001b[0m\u001b[0;34m\u001b[0m\u001b[0;34m\u001b[0m\u001b[0m\n\u001b[1;32m    534\u001b[0m \u001b[0;34m\u001b[0m\u001b[0m\n",
      "\u001b[0;32m~/anaconda3/envs/JupyterFull/lib/python3.6/site-packages/numpy/linalg/linalg.py\u001b[0m in \u001b[0;36m_raise_linalgerror_singular\u001b[0;34m(err, flag)\u001b[0m\n\u001b[1;32m     87\u001b[0m \u001b[0;34m\u001b[0m\u001b[0m\n\u001b[1;32m     88\u001b[0m \u001b[0;32mdef\u001b[0m \u001b[0m_raise_linalgerror_singular\u001b[0m\u001b[0;34m(\u001b[0m\u001b[0merr\u001b[0m\u001b[0;34m,\u001b[0m \u001b[0mflag\u001b[0m\u001b[0;34m)\u001b[0m\u001b[0;34m:\u001b[0m\u001b[0;34m\u001b[0m\u001b[0;34m\u001b[0m\u001b[0m\n\u001b[0;32m---> 89\u001b[0;31m     \u001b[0;32mraise\u001b[0m \u001b[0mLinAlgError\u001b[0m\u001b[0;34m(\u001b[0m\u001b[0;34m\"Singular matrix\"\u001b[0m\u001b[0;34m)\u001b[0m\u001b[0;34m\u001b[0m\u001b[0;34m\u001b[0m\u001b[0m\n\u001b[0m\u001b[1;32m     90\u001b[0m \u001b[0;34m\u001b[0m\u001b[0m\n\u001b[1;32m     91\u001b[0m \u001b[0;32mdef\u001b[0m \u001b[0m_raise_linalgerror_nonposdef\u001b[0m\u001b[0;34m(\u001b[0m\u001b[0merr\u001b[0m\u001b[0;34m,\u001b[0m \u001b[0mflag\u001b[0m\u001b[0;34m)\u001b[0m\u001b[0;34m:\u001b[0m\u001b[0;34m\u001b[0m\u001b[0;34m\u001b[0m\u001b[0m\n",
      "\u001b[0;31mLinAlgError\u001b[0m: Singular matrix"
     ]
    }
   ],
   "source": [
    "m = linalg.inv(G)@d\n",
    "plot(t,m)"
   ]
  },
  {
   "cell_type": "code",
   "execution_count": 109,
   "metadata": {},
   "outputs": [
    {
     "data": {
      "text/plain": [
       "[<matplotlib.lines.Line2D at 0x1014fd6c88>]"
      ]
     },
     "execution_count": 109,
     "metadata": {},
     "output_type": "execute_result"
    },
    {
     "data": {
      "image/png": "[encoded data removed]",
      "text/plain": [
       "<Figure size 432x288 with 1 Axes>"
      ]
     },
     "metadata": {
      "needs_background": "light"
     },
     "output_type": "display_data"
    }
   ],
   "source": [
    "m = linalg.pinv(G)@d\n",
    "plot(t,m)"
   ]
  },
  {
   "cell_type": "code",
   "execution_count": null,
   "metadata": {},
   "outputs": [],
   "source": []
  }
 ],
 "metadata": {
  "kernelspec": {
   "display_name": "Python 3",
   "language": "python",
   "name": "python3"
  },
  "language_info": {
   "codemirror_mode": {
    "name": "ipython",
    "version": 3
   },
   "file_extension": ".py",
   "mimetype": "text/x-python",
   "name": "python",
   "nbconvert_exporter": "python",
   "pygments_lexer": "ipython3",
   "version": "3.6.7"
  }
 },
 "nbformat": 4,
 "nbformat_minor": 2
}
